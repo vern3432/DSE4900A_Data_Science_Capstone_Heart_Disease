{
 "cells": [
  {
   "cell_type": "code",
   "execution_count": 33,
   "id": "ad4a383a",
   "metadata": {},
   "outputs": [],
   "source": [
    "# Libraries\n",
    "\n",
    "import pandas as pd\n",
    "import numpy as np\n",
    "import torch\n",
    "import torch.nn as nn\n",
    "from torch.utils.data import Dataset\n",
    "from sklearn.preprocessing import MinMaxScaler\n",
    "from sklearn.model_selection import train_test_split\n",
    "from sklearn.metrics import accuracy_score, confusion_matrix, ConfusionMatrixDisplay, f1_score\n",
    "from sklearn.neural_network import MLPClassifier\n",
    "from sklearn.model_selection import GridSearchCV\n",
    "from sklearn.feature_selection import SequentialFeatureSelector as SFS"
   ]
  },
  {
   "cell_type": "code",
   "execution_count": 35,
   "id": "90d700c8",
   "metadata": {},
   "outputs": [],
   "source": [
    "# The following is a summary of the below code:\n",
    "# Overall, GridSearch and SFS did worse than initially tested models\n",
    "# The PCA data was able to outperform the original data\n",
    "# Predicting on PCs 1 and 3 produced the best results\n",
    "# The Winning Model is:\n",
    "# mlp = MLPClassifier(hidden_layer_sizes=(100,100), activation = 'relu', random_state = 1)\n",
    "# Accuracy: 90.16%\n",
    "# F1: 91.18%"
   ]
  },
  {
   "cell_type": "code",
   "execution_count": 2,
   "id": "4234d947",
   "metadata": {},
   "outputs": [],
   "source": [
    "# Loading the data\n",
    "\n",
    "df = pd.read_csv('Heart_Disease_Classification_Dataset_Cleaned.csv')"
   ]
  },
  {
   "cell_type": "code",
   "execution_count": 3,
   "id": "d0be6caa",
   "metadata": {},
   "outputs": [
    {
     "data": {
      "text/html": [
       "<div>\n",
       "<style scoped>\n",
       "    .dataframe tbody tr th:only-of-type {\n",
       "        vertical-align: middle;\n",
       "    }\n",
       "\n",
       "    .dataframe tbody tr th {\n",
       "        vertical-align: top;\n",
       "    }\n",
       "\n",
       "    .dataframe thead th {\n",
       "        text-align: right;\n",
       "    }\n",
       "</style>\n",
       "<table border=\"1\" class=\"dataframe\">\n",
       "  <thead>\n",
       "    <tr style=\"text-align: right;\">\n",
       "      <th></th>\n",
       "      <th>Unnamed: 0</th>\n",
       "      <th>Unnamed: 0.1</th>\n",
       "      <th>Unnamed: 0.1.1</th>\n",
       "      <th>age</th>\n",
       "      <th>sex</th>\n",
       "      <th>trestbps</th>\n",
       "      <th>chol</th>\n",
       "      <th>fbs</th>\n",
       "      <th>restecg</th>\n",
       "      <th>thalach</th>\n",
       "      <th>...</th>\n",
       "      <th>oldpeak</th>\n",
       "      <th>slope</th>\n",
       "      <th>ca</th>\n",
       "      <th>chest_pain_1</th>\n",
       "      <th>chest_pain_2</th>\n",
       "      <th>chest_pain_3</th>\n",
       "      <th>thal_1</th>\n",
       "      <th>thal_2</th>\n",
       "      <th>thal_3</th>\n",
       "      <th>target</th>\n",
       "    </tr>\n",
       "  </thead>\n",
       "  <tbody>\n",
       "    <tr>\n",
       "      <th>0</th>\n",
       "      <td>0</td>\n",
       "      <td>0</td>\n",
       "      <td>0</td>\n",
       "      <td>63</td>\n",
       "      <td>1</td>\n",
       "      <td>145.000000</td>\n",
       "      <td>233.0</td>\n",
       "      <td>1</td>\n",
       "      <td>0</td>\n",
       "      <td>150.0</td>\n",
       "      <td>...</td>\n",
       "      <td>2.3</td>\n",
       "      <td>0</td>\n",
       "      <td>0</td>\n",
       "      <td>0</td>\n",
       "      <td>0</td>\n",
       "      <td>1</td>\n",
       "      <td>1</td>\n",
       "      <td>0</td>\n",
       "      <td>0</td>\n",
       "      <td>1</td>\n",
       "    </tr>\n",
       "    <tr>\n",
       "      <th>1</th>\n",
       "      <td>1</td>\n",
       "      <td>1</td>\n",
       "      <td>1</td>\n",
       "      <td>37</td>\n",
       "      <td>1</td>\n",
       "      <td>130.000000</td>\n",
       "      <td>250.0</td>\n",
       "      <td>0</td>\n",
       "      <td>1</td>\n",
       "      <td>187.0</td>\n",
       "      <td>...</td>\n",
       "      <td>3.5</td>\n",
       "      <td>0</td>\n",
       "      <td>0</td>\n",
       "      <td>0</td>\n",
       "      <td>1</td>\n",
       "      <td>0</td>\n",
       "      <td>0</td>\n",
       "      <td>1</td>\n",
       "      <td>0</td>\n",
       "      <td>1</td>\n",
       "    </tr>\n",
       "    <tr>\n",
       "      <th>2</th>\n",
       "      <td>2</td>\n",
       "      <td>2</td>\n",
       "      <td>2</td>\n",
       "      <td>41</td>\n",
       "      <td>0</td>\n",
       "      <td>130.000000</td>\n",
       "      <td>204.0</td>\n",
       "      <td>0</td>\n",
       "      <td>0</td>\n",
       "      <td>172.0</td>\n",
       "      <td>...</td>\n",
       "      <td>1.4</td>\n",
       "      <td>2</td>\n",
       "      <td>0</td>\n",
       "      <td>1</td>\n",
       "      <td>0</td>\n",
       "      <td>0</td>\n",
       "      <td>0</td>\n",
       "      <td>1</td>\n",
       "      <td>0</td>\n",
       "      <td>1</td>\n",
       "    </tr>\n",
       "    <tr>\n",
       "      <th>3</th>\n",
       "      <td>3</td>\n",
       "      <td>3</td>\n",
       "      <td>3</td>\n",
       "      <td>56</td>\n",
       "      <td>1</td>\n",
       "      <td>120.000000</td>\n",
       "      <td>236.0</td>\n",
       "      <td>0</td>\n",
       "      <td>1</td>\n",
       "      <td>178.0</td>\n",
       "      <td>...</td>\n",
       "      <td>0.8</td>\n",
       "      <td>2</td>\n",
       "      <td>0</td>\n",
       "      <td>1</td>\n",
       "      <td>0</td>\n",
       "      <td>0</td>\n",
       "      <td>0</td>\n",
       "      <td>1</td>\n",
       "      <td>0</td>\n",
       "      <td>1</td>\n",
       "    </tr>\n",
       "    <tr>\n",
       "      <th>4</th>\n",
       "      <td>4</td>\n",
       "      <td>4</td>\n",
       "      <td>4</td>\n",
       "      <td>57</td>\n",
       "      <td>0</td>\n",
       "      <td>132.679938</td>\n",
       "      <td>354.0</td>\n",
       "      <td>0</td>\n",
       "      <td>1</td>\n",
       "      <td>163.0</td>\n",
       "      <td>...</td>\n",
       "      <td>0.6</td>\n",
       "      <td>2</td>\n",
       "      <td>0</td>\n",
       "      <td>0</td>\n",
       "      <td>0</td>\n",
       "      <td>0</td>\n",
       "      <td>0</td>\n",
       "      <td>1</td>\n",
       "      <td>0</td>\n",
       "      <td>1</td>\n",
       "    </tr>\n",
       "  </tbody>\n",
       "</table>\n",
       "<p>5 rows × 21 columns</p>\n",
       "</div>"
      ],
      "text/plain": [
       "   Unnamed: 0  Unnamed: 0.1  Unnamed: 0.1.1  age  sex    trestbps   chol  fbs  \\\n",
       "0           0             0               0   63    1  145.000000  233.0    1   \n",
       "1           1             1               1   37    1  130.000000  250.0    0   \n",
       "2           2             2               2   41    0  130.000000  204.0    0   \n",
       "3           3             3               3   56    1  120.000000  236.0    0   \n",
       "4           4             4               4   57    0  132.679938  354.0    0   \n",
       "\n",
       "   restecg  thalach  ...  oldpeak  slope  ca  chest_pain_1  chest_pain_2  \\\n",
       "0        0    150.0  ...      2.3      0   0             0             0   \n",
       "1        1    187.0  ...      3.5      0   0             0             1   \n",
       "2        0    172.0  ...      1.4      2   0             1             0   \n",
       "3        1    178.0  ...      0.8      2   0             1             0   \n",
       "4        1    163.0  ...      0.6      2   0             0             0   \n",
       "\n",
       "   chest_pain_3  thal_1  thal_2  thal_3  target  \n",
       "0             1       1       0       0       1  \n",
       "1             0       0       1       0       1  \n",
       "2             0       0       1       0       1  \n",
       "3             0       0       1       0       1  \n",
       "4             0       0       1       0       1  \n",
       "\n",
       "[5 rows x 21 columns]"
      ]
     },
     "execution_count": 3,
     "metadata": {},
     "output_type": "execute_result"
    }
   ],
   "source": [
    "# Looking at the data\n",
    "\n",
    "df.head()"
   ]
  },
  {
   "cell_type": "code",
   "execution_count": 4,
   "id": "37f334a5",
   "metadata": {},
   "outputs": [
    {
     "data": {
      "text/html": [
       "<div>\n",
       "<style scoped>\n",
       "    .dataframe tbody tr th:only-of-type {\n",
       "        vertical-align: middle;\n",
       "    }\n",
       "\n",
       "    .dataframe tbody tr th {\n",
       "        vertical-align: top;\n",
       "    }\n",
       "\n",
       "    .dataframe thead th {\n",
       "        text-align: right;\n",
       "    }\n",
       "</style>\n",
       "<table border=\"1\" class=\"dataframe\">\n",
       "  <thead>\n",
       "    <tr style=\"text-align: right;\">\n",
       "      <th></th>\n",
       "      <th>age</th>\n",
       "      <th>sex</th>\n",
       "      <th>trestbps</th>\n",
       "      <th>chol</th>\n",
       "      <th>fbs</th>\n",
       "      <th>restecg</th>\n",
       "      <th>thalach</th>\n",
       "      <th>exang</th>\n",
       "      <th>oldpeak</th>\n",
       "      <th>slope</th>\n",
       "      <th>ca</th>\n",
       "      <th>chest_pain_1</th>\n",
       "      <th>chest_pain_2</th>\n",
       "      <th>chest_pain_3</th>\n",
       "      <th>thal_1</th>\n",
       "      <th>thal_2</th>\n",
       "      <th>thal_3</th>\n",
       "      <th>target</th>\n",
       "    </tr>\n",
       "  </thead>\n",
       "  <tbody>\n",
       "    <tr>\n",
       "      <th>0</th>\n",
       "      <td>63</td>\n",
       "      <td>1</td>\n",
       "      <td>145.000000</td>\n",
       "      <td>233.0</td>\n",
       "      <td>1</td>\n",
       "      <td>0</td>\n",
       "      <td>150.0</td>\n",
       "      <td>0</td>\n",
       "      <td>2.3</td>\n",
       "      <td>0</td>\n",
       "      <td>0</td>\n",
       "      <td>0</td>\n",
       "      <td>0</td>\n",
       "      <td>1</td>\n",
       "      <td>1</td>\n",
       "      <td>0</td>\n",
       "      <td>0</td>\n",
       "      <td>1</td>\n",
       "    </tr>\n",
       "    <tr>\n",
       "      <th>1</th>\n",
       "      <td>37</td>\n",
       "      <td>1</td>\n",
       "      <td>130.000000</td>\n",
       "      <td>250.0</td>\n",
       "      <td>0</td>\n",
       "      <td>1</td>\n",
       "      <td>187.0</td>\n",
       "      <td>0</td>\n",
       "      <td>3.5</td>\n",
       "      <td>0</td>\n",
       "      <td>0</td>\n",
       "      <td>0</td>\n",
       "      <td>1</td>\n",
       "      <td>0</td>\n",
       "      <td>0</td>\n",
       "      <td>1</td>\n",
       "      <td>0</td>\n",
       "      <td>1</td>\n",
       "    </tr>\n",
       "    <tr>\n",
       "      <th>2</th>\n",
       "      <td>41</td>\n",
       "      <td>0</td>\n",
       "      <td>130.000000</td>\n",
       "      <td>204.0</td>\n",
       "      <td>0</td>\n",
       "      <td>0</td>\n",
       "      <td>172.0</td>\n",
       "      <td>0</td>\n",
       "      <td>1.4</td>\n",
       "      <td>2</td>\n",
       "      <td>0</td>\n",
       "      <td>1</td>\n",
       "      <td>0</td>\n",
       "      <td>0</td>\n",
       "      <td>0</td>\n",
       "      <td>1</td>\n",
       "      <td>0</td>\n",
       "      <td>1</td>\n",
       "    </tr>\n",
       "    <tr>\n",
       "      <th>3</th>\n",
       "      <td>56</td>\n",
       "      <td>1</td>\n",
       "      <td>120.000000</td>\n",
       "      <td>236.0</td>\n",
       "      <td>0</td>\n",
       "      <td>1</td>\n",
       "      <td>178.0</td>\n",
       "      <td>0</td>\n",
       "      <td>0.8</td>\n",
       "      <td>2</td>\n",
       "      <td>0</td>\n",
       "      <td>1</td>\n",
       "      <td>0</td>\n",
       "      <td>0</td>\n",
       "      <td>0</td>\n",
       "      <td>1</td>\n",
       "      <td>0</td>\n",
       "      <td>1</td>\n",
       "    </tr>\n",
       "    <tr>\n",
       "      <th>4</th>\n",
       "      <td>57</td>\n",
       "      <td>0</td>\n",
       "      <td>132.679938</td>\n",
       "      <td>354.0</td>\n",
       "      <td>0</td>\n",
       "      <td>1</td>\n",
       "      <td>163.0</td>\n",
       "      <td>1</td>\n",
       "      <td>0.6</td>\n",
       "      <td>2</td>\n",
       "      <td>0</td>\n",
       "      <td>0</td>\n",
       "      <td>0</td>\n",
       "      <td>0</td>\n",
       "      <td>0</td>\n",
       "      <td>1</td>\n",
       "      <td>0</td>\n",
       "      <td>1</td>\n",
       "    </tr>\n",
       "  </tbody>\n",
       "</table>\n",
       "</div>"
      ],
      "text/plain": [
       "   age  sex    trestbps   chol  fbs  restecg  thalach  exang  oldpeak  slope  \\\n",
       "0   63    1  145.000000  233.0    1        0    150.0      0      2.3      0   \n",
       "1   37    1  130.000000  250.0    0        1    187.0      0      3.5      0   \n",
       "2   41    0  130.000000  204.0    0        0    172.0      0      1.4      2   \n",
       "3   56    1  120.000000  236.0    0        1    178.0      0      0.8      2   \n",
       "4   57    0  132.679938  354.0    0        1    163.0      1      0.6      2   \n",
       "\n",
       "   ca  chest_pain_1  chest_pain_2  chest_pain_3  thal_1  thal_2  thal_3  \\\n",
       "0   0             0             0             1       1       0       0   \n",
       "1   0             0             1             0       0       1       0   \n",
       "2   0             1             0             0       0       1       0   \n",
       "3   0             1             0             0       0       1       0   \n",
       "4   0             0             0             0       0       1       0   \n",
       "\n",
       "   target  \n",
       "0       1  \n",
       "1       1  \n",
       "2       1  \n",
       "3       1  \n",
       "4       1  "
      ]
     },
     "execution_count": 4,
     "metadata": {},
     "output_type": "execute_result"
    }
   ],
   "source": [
    "# Dropping Unnamed (Index value, not relevant for analysis)\n",
    "\n",
    "df2 = df.drop([\"Unnamed: 0\"], axis=1)\n",
    "df2 = df2.drop([\"Unnamed: 0.1\"], axis=1)\n",
    "df2 = df2.drop([\"Unnamed: 0.1.1\"], axis=1)\n",
    "df2.head()"
   ]
  },
  {
   "cell_type": "code",
   "execution_count": 5,
   "id": "3ac8823c",
   "metadata": {},
   "outputs": [],
   "source": [
    "# Train/Test Split\n",
    "\n",
    "X = df2.iloc[:, 0:17] \n",
    "y = df2.iloc[:, 17]\n",
    "\n",
    "# Min-Max\n",
    "\n",
    "mms = MinMaxScaler()\n",
    "X_minmax = mms.fit_transform(X)\n",
    "\n",
    "X_train, X_test, y_train, y_test = train_test_split(X_minmax, y, train_size=0.8, stratify=y, random_state=0)"
   ]
  },
  {
   "cell_type": "code",
   "execution_count": 6,
   "id": "88756cfd",
   "metadata": {},
   "outputs": [
    {
     "name": "stderr",
     "output_type": "stream",
     "text": [
      "/Users/gregory/opt/anaconda3/lib/python3.9/site-packages/sklearn/neural_network/_multilayer_perceptron.py:686: ConvergenceWarning: Stochastic Optimizer: Maximum iterations (200) reached and the optimization hasn't converged yet.\n",
      "  warnings.warn(\n"
     ]
    },
    {
     "data": {
      "text/plain": [
       "0.9710743801652892"
      ]
     },
     "execution_count": 6,
     "metadata": {},
     "output_type": "execute_result"
    }
   ],
   "source": [
    "# Train Sklearn Neural Network 1 (2 layers, 100 units each, relu)\n",
    "\n",
    "mlp = MLPClassifier(hidden_layer_sizes=(100,100), activation = 'relu', random_state = 1)\n",
    "mlp.fit(X_train, y_train)\n",
    "mlp.score(X_train, y_train) # 97.1%"
   ]
  },
  {
   "cell_type": "code",
   "execution_count": 7,
   "id": "a163a60c",
   "metadata": {},
   "outputs": [
    {
     "name": "stdout",
     "output_type": "stream",
     "text": [
      "0.8688524590163934\n"
     ]
    },
    {
     "data": {
      "image/png": "[encoded data removed]",
      "text/plain": [
       "<Figure size 432x288 with 2 Axes>"
      ]
     },
     "metadata": {
      "needs_background": "light"
     },
     "output_type": "display_data"
    }
   ],
   "source": [
    "# Test NN 1\n",
    "\n",
    "y_pred = mlp.predict(X_test)\n",
    "\n",
    "cf_matrix = confusion_matrix(y_test,y_pred)\n",
    "cmd = ConfusionMatrixDisplay(cf_matrix, display_labels=['0', '1'])\n",
    "cmd.plot()\n",
    "cmd.ax_.set(xlabel='Predicted', ylabel='True')\n",
    "\n",
    "score = accuracy_score(y_test,y_pred)\n",
    "print(score) # 86.89%"
   ]
  },
  {
   "cell_type": "code",
   "execution_count": 11,
   "id": "821e80d7",
   "metadata": {},
   "outputs": [
    {
     "name": "stdout",
     "output_type": "stream",
     "text": [
      "MLPClassifier(activation='logistic', hidden_layer_sizes=(50, 50))\n",
      "0.819672131147541\n"
     ]
    },
    {
     "data": {
      "image/png": "[encoded data removed]",
      "text/plain": [
       "<Figure size 432x288 with 2 Axes>"
      ]
     },
     "metadata": {
      "needs_background": "light"
     },
     "output_type": "display_data"
    }
   ],
   "source": [
    "# Optimize Parameter Space\n",
    "\n",
    "# Supress the many, many warnings\n",
    "def warn(*args, **kwargs):\n",
    "    pass\n",
    "import warnings\n",
    "warnings.warn = warn\n",
    "\n",
    "parameters = {'hidden_layer_sizes':((50,50), (100,100), (100,100,100,100)), 'activation':('relu','logistic','tanh')} #set parameters for GridSearch\n",
    "mlp = MLPClassifier() # MLP object\n",
    "clf = GridSearchCV(mlp, parameters)\n",
    "clf.fit(X_train, y_train) #Fit GridSearch object\n",
    "print(clf.best_estimator_) \n",
    "y_pred = clf.predict(X_test) #Generate prediction\n",
    "\n",
    "cf_matrix = confusion_matrix(y_test,y_pred)\n",
    "cmd = ConfusionMatrixDisplay(cf_matrix, display_labels=['0', '1'])\n",
    "cmd.plot()\n",
    "cmd.ax_.set(xlabel='Predicted', ylabel='True')\n",
    "\n",
    "score = accuracy_score(y_test,y_pred)\n",
    "print(score) # 81.89%"
   ]
  },
  {
   "cell_type": "code",
   "execution_count": 12,
   "id": "dff815cf",
   "metadata": {},
   "outputs": [
    {
     "name": "stdout",
     "output_type": "stream",
     "text": [
      "0.7868852459016393\n"
     ]
    },
    {
     "data": {
      "text/html": [
       "<div>\n",
       "<style scoped>\n",
       "    .dataframe tbody tr th:only-of-type {\n",
       "        vertical-align: middle;\n",
       "    }\n",
       "\n",
       "    .dataframe tbody tr th {\n",
       "        vertical-align: top;\n",
       "    }\n",
       "\n",
       "    .dataframe thead th {\n",
       "        text-align: right;\n",
       "    }\n",
       "</style>\n",
       "<table border=\"1\" class=\"dataframe\">\n",
       "  <thead>\n",
       "    <tr style=\"text-align: right;\">\n",
       "      <th></th>\n",
       "      <th>0</th>\n",
       "      <th>1</th>\n",
       "      <th>2</th>\n",
       "      <th>6</th>\n",
       "      <th>7</th>\n",
       "      <th>10</th>\n",
       "      <th>13</th>\n",
       "      <th>16</th>\n",
       "    </tr>\n",
       "  </thead>\n",
       "  <tbody>\n",
       "    <tr>\n",
       "      <th>0</th>\n",
       "      <td>0.562500</td>\n",
       "      <td>1.0</td>\n",
       "      <td>0.339623</td>\n",
       "      <td>0.244275</td>\n",
       "      <td>1.0</td>\n",
       "      <td>0.00</td>\n",
       "      <td>0.0</td>\n",
       "      <td>1.0</td>\n",
       "    </tr>\n",
       "    <tr>\n",
       "      <th>1</th>\n",
       "      <td>0.604167</td>\n",
       "      <td>1.0</td>\n",
       "      <td>0.320755</td>\n",
       "      <td>0.458015</td>\n",
       "      <td>1.0</td>\n",
       "      <td>0.75</td>\n",
       "      <td>0.0</td>\n",
       "      <td>1.0</td>\n",
       "    </tr>\n",
       "    <tr>\n",
       "      <th>2</th>\n",
       "      <td>0.437500</td>\n",
       "      <td>0.0</td>\n",
       "      <td>0.329181</td>\n",
       "      <td>0.664122</td>\n",
       "      <td>0.0</td>\n",
       "      <td>0.00</td>\n",
       "      <td>0.0</td>\n",
       "      <td>0.0</td>\n",
       "    </tr>\n",
       "    <tr>\n",
       "      <th>3</th>\n",
       "      <td>0.520833</td>\n",
       "      <td>1.0</td>\n",
       "      <td>0.150943</td>\n",
       "      <td>0.419847</td>\n",
       "      <td>1.0</td>\n",
       "      <td>0.25</td>\n",
       "      <td>0.0</td>\n",
       "      <td>1.0</td>\n",
       "    </tr>\n",
       "    <tr>\n",
       "      <th>4</th>\n",
       "      <td>0.458333</td>\n",
       "      <td>1.0</td>\n",
       "      <td>0.433962</td>\n",
       "      <td>0.389313</td>\n",
       "      <td>1.0</td>\n",
       "      <td>0.75</td>\n",
       "      <td>0.0</td>\n",
       "      <td>1.0</td>\n",
       "    </tr>\n",
       "  </tbody>\n",
       "</table>\n",
       "</div>"
      ],
      "text/plain": [
       "         0    1         2         6    7     10   13   16\n",
       "0  0.562500  1.0  0.339623  0.244275  1.0  0.00  0.0  1.0\n",
       "1  0.604167  1.0  0.320755  0.458015  1.0  0.75  0.0  1.0\n",
       "2  0.437500  0.0  0.329181  0.664122  0.0  0.00  0.0  0.0\n",
       "3  0.520833  1.0  0.150943  0.419847  1.0  0.25  0.0  1.0\n",
       "4  0.458333  1.0  0.433962  0.389313  1.0  0.75  0.0  1.0"
      ]
     },
     "execution_count": 12,
     "metadata": {},
     "output_type": "execute_result"
    },
    {
     "data": {
      "image/png": "[encoded data removed]",
      "text/plain": [
       "<Figure size 432x288 with 2 Axes>"
      ]
     },
     "metadata": {
      "needs_background": "light"
     },
     "output_type": "display_data"
    }
   ],
   "source": [
    "# Feature Selection\n",
    "\n",
    "mlp = MLPClassifier(activation='logistic', hidden_layer_sizes=(50, 50)) #create MLP object\n",
    "selector = SFS(mlp) #create Feature Selector object\n",
    "selector.fit(X_train,y_train) #run feature selection\n",
    "\n",
    "#Reduce your training set features selected\n",
    "X_train_fs = selector.transform(X_train)\n",
    "X_test_fs = selector.transform(X_test)\n",
    "\n",
    "#Re-run SVM with selected features\n",
    "mlp.fit(X_train_fs, y_train)\n",
    "y_pred = mlp.predict(X_test_fs) \n",
    "\n",
    "cf_matrix = confusion_matrix(y_test,y_pred)\n",
    "cmd = ConfusionMatrixDisplay(cf_matrix, display_labels=['0', '1'])\n",
    "cmd.plot()\n",
    "cmd.ax_.set(xlabel='Predicted', ylabel='True')\n",
    "\n",
    "score = accuracy_score(y_test,y_pred)\n",
    "print(score) # 81.89%\n",
    "\n",
    "# Get selected features\n",
    "X_train_df = pd.DataFrame(data=X_train)\n",
    "features = selector.fit_transform(X_train,y_train) \n",
    "feature_idx = selector.get_support(indices=True)\n",
    "feature_names = X_train_df.columns[feature_idx]\n",
    "features = pd.DataFrame(features, columns=feature_names)\n",
    "features.head()\n",
    "\n",
    "# Accuracy: 78.69%\n",
    "\n",
    "# Overall, this is WORSE than our initial model, so we shall disregard this."
   ]
  },
  {
   "cell_type": "code",
   "execution_count": 13,
   "id": "ac52a7eb",
   "metadata": {},
   "outputs": [
    {
     "name": "stdout",
     "output_type": "stream",
     "text": [
      "0.819672131147541\n"
     ]
    },
    {
     "data": {
      "text/html": [
       "<div>\n",
       "<style scoped>\n",
       "    .dataframe tbody tr th:only-of-type {\n",
       "        vertical-align: middle;\n",
       "    }\n",
       "\n",
       "    .dataframe tbody tr th {\n",
       "        vertical-align: top;\n",
       "    }\n",
       "\n",
       "    .dataframe thead th {\n",
       "        text-align: right;\n",
       "    }\n",
       "</style>\n",
       "<table border=\"1\" class=\"dataframe\">\n",
       "  <thead>\n",
       "    <tr style=\"text-align: right;\">\n",
       "      <th></th>\n",
       "      <th>0</th>\n",
       "      <th>1</th>\n",
       "      <th>2</th>\n",
       "      <th>3</th>\n",
       "      <th>10</th>\n",
       "      <th>11</th>\n",
       "      <th>12</th>\n",
       "      <th>15</th>\n",
       "    </tr>\n",
       "  </thead>\n",
       "  <tbody>\n",
       "    <tr>\n",
       "      <th>0</th>\n",
       "      <td>0.562500</td>\n",
       "      <td>1.0</td>\n",
       "      <td>0.339623</td>\n",
       "      <td>0.358447</td>\n",
       "      <td>0.00</td>\n",
       "      <td>0.0</td>\n",
       "      <td>0.0</td>\n",
       "      <td>0.0</td>\n",
       "    </tr>\n",
       "    <tr>\n",
       "      <th>1</th>\n",
       "      <td>0.604167</td>\n",
       "      <td>1.0</td>\n",
       "      <td>0.320755</td>\n",
       "      <td>0.205479</td>\n",
       "      <td>0.75</td>\n",
       "      <td>0.0</td>\n",
       "      <td>0.0</td>\n",
       "      <td>0.0</td>\n",
       "    </tr>\n",
       "    <tr>\n",
       "      <th>2</th>\n",
       "      <td>0.437500</td>\n",
       "      <td>0.0</td>\n",
       "      <td>0.329181</td>\n",
       "      <td>0.212329</td>\n",
       "      <td>0.00</td>\n",
       "      <td>0.0</td>\n",
       "      <td>1.0</td>\n",
       "      <td>1.0</td>\n",
       "    </tr>\n",
       "    <tr>\n",
       "      <th>3</th>\n",
       "      <td>0.520833</td>\n",
       "      <td>1.0</td>\n",
       "      <td>0.150943</td>\n",
       "      <td>0.257991</td>\n",
       "      <td>0.25</td>\n",
       "      <td>0.0</td>\n",
       "      <td>0.0</td>\n",
       "      <td>0.0</td>\n",
       "    </tr>\n",
       "    <tr>\n",
       "      <th>4</th>\n",
       "      <td>0.458333</td>\n",
       "      <td>1.0</td>\n",
       "      <td>0.433962</td>\n",
       "      <td>0.392694</td>\n",
       "      <td>0.75</td>\n",
       "      <td>0.0</td>\n",
       "      <td>0.0</td>\n",
       "      <td>0.0</td>\n",
       "    </tr>\n",
       "  </tbody>\n",
       "</table>\n",
       "</div>"
      ],
      "text/plain": [
       "         0    1         2         3     10   11   12   15\n",
       "0  0.562500  1.0  0.339623  0.358447  0.00  0.0  0.0  0.0\n",
       "1  0.604167  1.0  0.320755  0.205479  0.75  0.0  0.0  0.0\n",
       "2  0.437500  0.0  0.329181  0.212329  0.00  0.0  1.0  1.0\n",
       "3  0.520833  1.0  0.150943  0.257991  0.25  0.0  0.0  0.0\n",
       "4  0.458333  1.0  0.433962  0.392694  0.75  0.0  0.0  0.0"
      ]
     },
     "execution_count": 13,
     "metadata": {},
     "output_type": "execute_result"
    },
    {
     "data": {
      "image/png": "[encoded data removed]",
      "text/plain": [
       "<Figure size 432x288 with 2 Axes>"
      ]
     },
     "metadata": {
      "needs_background": "light"
     },
     "output_type": "display_data"
    }
   ],
   "source": [
    "# Feature Selection on Initial Model\n",
    "\n",
    "mlp = MLPClassifier(hidden_layer_sizes=(100,100), activation = 'relu', random_state = 1) #create MLP object\n",
    "selector = SFS(mlp) #create Feature Selector object\n",
    "selector.fit(X_train,y_train) #run feature selection\n",
    "\n",
    "#Reduce your training set features selected\n",
    "X_train_fs = selector.transform(X_train)\n",
    "X_test_fs = selector.transform(X_test)\n",
    "\n",
    "#Re-run SVM with selected features\n",
    "mlp.fit(X_train_fs, y_train)\n",
    "y_pred = mlp.predict(X_test_fs) \n",
    "\n",
    "cf_matrix = confusion_matrix(y_test,y_pred)\n",
    "cmd = ConfusionMatrixDisplay(cf_matrix, display_labels=['0', '1'])\n",
    "cmd.plot()\n",
    "cmd.ax_.set(xlabel='Predicted', ylabel='True')\n",
    "\n",
    "score = accuracy_score(y_test,y_pred)\n",
    "print(score) # 81.89%\n",
    "\n",
    "# Get selected features\n",
    "X_train_df = pd.DataFrame(data=X_train)\n",
    "features = selector.fit_transform(X_train,y_train) \n",
    "feature_idx = selector.get_support(indices=True)\n",
    "feature_names = X_train_df.columns[feature_idx]\n",
    "features = pd.DataFrame(features, columns=feature_names)\n",
    "features.head()\n",
    "\n",
    "# Accuracy: 81.97%\n",
    "\n",
    "# Overall, this is WORSE than our initial model, so we shall disregard this."
   ]
  },
  {
   "cell_type": "code",
   "execution_count": 14,
   "id": "50534e3b",
   "metadata": {},
   "outputs": [
    {
     "data": {
      "text/html": [
       "<div>\n",
       "<style scoped>\n",
       "    .dataframe tbody tr th:only-of-type {\n",
       "        vertical-align: middle;\n",
       "    }\n",
       "\n",
       "    .dataframe tbody tr th {\n",
       "        vertical-align: top;\n",
       "    }\n",
       "\n",
       "    .dataframe thead th {\n",
       "        text-align: right;\n",
       "    }\n",
       "</style>\n",
       "<table border=\"1\" class=\"dataframe\">\n",
       "  <thead>\n",
       "    <tr style=\"text-align: right;\">\n",
       "      <th></th>\n",
       "      <th>Unnamed: 0</th>\n",
       "      <th>target</th>\n",
       "      <th>PC1</th>\n",
       "      <th>PC2</th>\n",
       "      <th>PC3</th>\n",
       "      <th>PC4</th>\n",
       "      <th>PC5</th>\n",
       "      <th>PC6</th>\n",
       "      <th>PC7</th>\n",
       "      <th>PC8</th>\n",
       "      <th>PC9</th>\n",
       "      <th>PC10</th>\n",
       "      <th>PC11</th>\n",
       "      <th>PC12</th>\n",
       "      <th>PC13</th>\n",
       "      <th>PC14</th>\n",
       "      <th>PC15</th>\n",
       "      <th>PC16</th>\n",
       "      <th>PC17</th>\n",
       "    </tr>\n",
       "  </thead>\n",
       "  <tbody>\n",
       "    <tr>\n",
       "      <th>0</th>\n",
       "      <td>1</td>\n",
       "      <td>1</td>\n",
       "      <td>-2.429920</td>\n",
       "      <td>1.227545</td>\n",
       "      <td>5.318811</td>\n",
       "      <td>-2.126395</td>\n",
       "      <td>-0.544222</td>\n",
       "      <td>0.064007</td>\n",
       "      <td>-0.050474</td>\n",
       "      <td>0.967102</td>\n",
       "      <td>0.506234</td>\n",
       "      <td>0.329697</td>\n",
       "      <td>1.151475</td>\n",
       "      <td>-1.725178</td>\n",
       "      <td>0.292555</td>\n",
       "      <td>-0.309600</td>\n",
       "      <td>-0.290396</td>\n",
       "      <td>0.114007</td>\n",
       "      <td>-0.019986</td>\n",
       "    </tr>\n",
       "    <tr>\n",
       "      <th>1</th>\n",
       "      <td>2</td>\n",
       "      <td>1</td>\n",
       "      <td>0.721195</td>\n",
       "      <td>-0.281984</td>\n",
       "      <td>-0.328842</td>\n",
       "      <td>-2.358104</td>\n",
       "      <td>-0.759147</td>\n",
       "      <td>1.779358</td>\n",
       "      <td>0.473326</td>\n",
       "      <td>1.602062</td>\n",
       "      <td>0.986535</td>\n",
       "      <td>-2.173703</td>\n",
       "      <td>0.896514</td>\n",
       "      <td>1.006841</td>\n",
       "      <td>-1.478196</td>\n",
       "      <td>-0.209001</td>\n",
       "      <td>-0.220719</td>\n",
       "      <td>-0.397759</td>\n",
       "      <td>0.025964</td>\n",
       "    </tr>\n",
       "    <tr>\n",
       "      <th>2</th>\n",
       "      <td>3</td>\n",
       "      <td>1</td>\n",
       "      <td>2.568912</td>\n",
       "      <td>-0.318636</td>\n",
       "      <td>0.713543</td>\n",
       "      <td>0.530979</td>\n",
       "      <td>1.501292</td>\n",
       "      <td>0.285505</td>\n",
       "      <td>-0.125381</td>\n",
       "      <td>0.812555</td>\n",
       "      <td>-0.040128</td>\n",
       "      <td>-1.344519</td>\n",
       "      <td>-0.797776</td>\n",
       "      <td>0.557769</td>\n",
       "      <td>1.024341</td>\n",
       "      <td>-0.190077</td>\n",
       "      <td>0.858935</td>\n",
       "      <td>1.065946</td>\n",
       "      <td>-0.013232</td>\n",
       "    </tr>\n",
       "    <tr>\n",
       "      <th>3</th>\n",
       "      <td>4</td>\n",
       "      <td>1</td>\n",
       "      <td>2.335994</td>\n",
       "      <td>-1.015175</td>\n",
       "      <td>0.566396</td>\n",
       "      <td>0.694903</td>\n",
       "      <td>1.201322</td>\n",
       "      <td>-0.532286</td>\n",
       "      <td>0.810819</td>\n",
       "      <td>-0.179714</td>\n",
       "      <td>0.128637</td>\n",
       "      <td>-0.511888</td>\n",
       "      <td>-0.080877</td>\n",
       "      <td>-0.263581</td>\n",
       "      <td>-1.195391</td>\n",
       "      <td>-0.999259</td>\n",
       "      <td>0.212983</td>\n",
       "      <td>0.129738</td>\n",
       "      <td>0.015585</td>\n",
       "    </tr>\n",
       "    <tr>\n",
       "      <th>4</th>\n",
       "      <td>5</td>\n",
       "      <td>1</td>\n",
       "      <td>1.045232</td>\n",
       "      <td>1.367217</td>\n",
       "      <td>-1.124890</td>\n",
       "      <td>0.810735</td>\n",
       "      <td>1.259036</td>\n",
       "      <td>0.410420</td>\n",
       "      <td>0.171669</td>\n",
       "      <td>0.647294</td>\n",
       "      <td>-0.595034</td>\n",
       "      <td>1.743017</td>\n",
       "      <td>1.411727</td>\n",
       "      <td>0.796217</td>\n",
       "      <td>-0.128424</td>\n",
       "      <td>-0.703468</td>\n",
       "      <td>0.155636</td>\n",
       "      <td>-0.290774</td>\n",
       "      <td>-0.001993</td>\n",
       "    </tr>\n",
       "  </tbody>\n",
       "</table>\n",
       "</div>"
      ],
      "text/plain": [
       "   Unnamed: 0  target       PC1       PC2       PC3       PC4       PC5  \\\n",
       "0           1       1 -2.429920  1.227545  5.318811 -2.126395 -0.544222   \n",
       "1           2       1  0.721195 -0.281984 -0.328842 -2.358104 -0.759147   \n",
       "2           3       1  2.568912 -0.318636  0.713543  0.530979  1.501292   \n",
       "3           4       1  2.335994 -1.015175  0.566396  0.694903  1.201322   \n",
       "4           5       1  1.045232  1.367217 -1.124890  0.810735  1.259036   \n",
       "\n",
       "        PC6       PC7       PC8       PC9      PC10      PC11      PC12  \\\n",
       "0  0.064007 -0.050474  0.967102  0.506234  0.329697  1.151475 -1.725178   \n",
       "1  1.779358  0.473326  1.602062  0.986535 -2.173703  0.896514  1.006841   \n",
       "2  0.285505 -0.125381  0.812555 -0.040128 -1.344519 -0.797776  0.557769   \n",
       "3 -0.532286  0.810819 -0.179714  0.128637 -0.511888 -0.080877 -0.263581   \n",
       "4  0.410420  0.171669  0.647294 -0.595034  1.743017  1.411727  0.796217   \n",
       "\n",
       "       PC13      PC14      PC15      PC16      PC17  \n",
       "0  0.292555 -0.309600 -0.290396  0.114007 -0.019986  \n",
       "1 -1.478196 -0.209001 -0.220719 -0.397759  0.025964  \n",
       "2  1.024341 -0.190077  0.858935  1.065946 -0.013232  \n",
       "3 -1.195391 -0.999259  0.212983  0.129738  0.015585  \n",
       "4 -0.128424 -0.703468  0.155636 -0.290774 -0.001993  "
      ]
     },
     "execution_count": 14,
     "metadata": {},
     "output_type": "execute_result"
    }
   ],
   "source": [
    "# PCA\n",
    "\n",
    "# Loading the data\n",
    "\n",
    "df_pca = pd.read_csv('hd_pca.csv')\n",
    "\n",
    "# Looking at the data\n",
    "\n",
    "df_pca.head()"
   ]
  },
  {
   "cell_type": "code",
   "execution_count": 15,
   "id": "67df0781",
   "metadata": {},
   "outputs": [
    {
     "data": {
      "text/html": [
       "<div>\n",
       "<style scoped>\n",
       "    .dataframe tbody tr th:only-of-type {\n",
       "        vertical-align: middle;\n",
       "    }\n",
       "\n",
       "    .dataframe tbody tr th {\n",
       "        vertical-align: top;\n",
       "    }\n",
       "\n",
       "    .dataframe thead th {\n",
       "        text-align: right;\n",
       "    }\n",
       "</style>\n",
       "<table border=\"1\" class=\"dataframe\">\n",
       "  <thead>\n",
       "    <tr style=\"text-align: right;\">\n",
       "      <th></th>\n",
       "      <th>target</th>\n",
       "      <th>PC1</th>\n",
       "      <th>PC2</th>\n",
       "      <th>PC3</th>\n",
       "      <th>PC4</th>\n",
       "      <th>PC5</th>\n",
       "      <th>PC6</th>\n",
       "      <th>PC7</th>\n",
       "      <th>PC8</th>\n",
       "      <th>PC9</th>\n",
       "      <th>PC10</th>\n",
       "      <th>PC11</th>\n",
       "      <th>PC12</th>\n",
       "      <th>PC13</th>\n",
       "      <th>PC14</th>\n",
       "      <th>PC15</th>\n",
       "      <th>PC16</th>\n",
       "      <th>PC17</th>\n",
       "    </tr>\n",
       "  </thead>\n",
       "  <tbody>\n",
       "    <tr>\n",
       "      <th>0</th>\n",
       "      <td>1</td>\n",
       "      <td>-2.429920</td>\n",
       "      <td>1.227545</td>\n",
       "      <td>5.318811</td>\n",
       "      <td>-2.126395</td>\n",
       "      <td>-0.544222</td>\n",
       "      <td>0.064007</td>\n",
       "      <td>-0.050474</td>\n",
       "      <td>0.967102</td>\n",
       "      <td>0.506234</td>\n",
       "      <td>0.329697</td>\n",
       "      <td>1.151475</td>\n",
       "      <td>-1.725178</td>\n",
       "      <td>0.292555</td>\n",
       "      <td>-0.309600</td>\n",
       "      <td>-0.290396</td>\n",
       "      <td>0.114007</td>\n",
       "      <td>-0.019986</td>\n",
       "    </tr>\n",
       "    <tr>\n",
       "      <th>1</th>\n",
       "      <td>1</td>\n",
       "      <td>0.721195</td>\n",
       "      <td>-0.281984</td>\n",
       "      <td>-0.328842</td>\n",
       "      <td>-2.358104</td>\n",
       "      <td>-0.759147</td>\n",
       "      <td>1.779358</td>\n",
       "      <td>0.473326</td>\n",
       "      <td>1.602062</td>\n",
       "      <td>0.986535</td>\n",
       "      <td>-2.173703</td>\n",
       "      <td>0.896514</td>\n",
       "      <td>1.006841</td>\n",
       "      <td>-1.478196</td>\n",
       "      <td>-0.209001</td>\n",
       "      <td>-0.220719</td>\n",
       "      <td>-0.397759</td>\n",
       "      <td>0.025964</td>\n",
       "    </tr>\n",
       "    <tr>\n",
       "      <th>2</th>\n",
       "      <td>1</td>\n",
       "      <td>2.568912</td>\n",
       "      <td>-0.318636</td>\n",
       "      <td>0.713543</td>\n",
       "      <td>0.530979</td>\n",
       "      <td>1.501292</td>\n",
       "      <td>0.285505</td>\n",
       "      <td>-0.125381</td>\n",
       "      <td>0.812555</td>\n",
       "      <td>-0.040128</td>\n",
       "      <td>-1.344519</td>\n",
       "      <td>-0.797776</td>\n",
       "      <td>0.557769</td>\n",
       "      <td>1.024341</td>\n",
       "      <td>-0.190077</td>\n",
       "      <td>0.858935</td>\n",
       "      <td>1.065946</td>\n",
       "      <td>-0.013232</td>\n",
       "    </tr>\n",
       "    <tr>\n",
       "      <th>3</th>\n",
       "      <td>1</td>\n",
       "      <td>2.335994</td>\n",
       "      <td>-1.015175</td>\n",
       "      <td>0.566396</td>\n",
       "      <td>0.694903</td>\n",
       "      <td>1.201322</td>\n",
       "      <td>-0.532286</td>\n",
       "      <td>0.810819</td>\n",
       "      <td>-0.179714</td>\n",
       "      <td>0.128637</td>\n",
       "      <td>-0.511888</td>\n",
       "      <td>-0.080877</td>\n",
       "      <td>-0.263581</td>\n",
       "      <td>-1.195391</td>\n",
       "      <td>-0.999259</td>\n",
       "      <td>0.212983</td>\n",
       "      <td>0.129738</td>\n",
       "      <td>0.015585</td>\n",
       "    </tr>\n",
       "    <tr>\n",
       "      <th>4</th>\n",
       "      <td>1</td>\n",
       "      <td>1.045232</td>\n",
       "      <td>1.367217</td>\n",
       "      <td>-1.124890</td>\n",
       "      <td>0.810735</td>\n",
       "      <td>1.259036</td>\n",
       "      <td>0.410420</td>\n",
       "      <td>0.171669</td>\n",
       "      <td>0.647294</td>\n",
       "      <td>-0.595034</td>\n",
       "      <td>1.743017</td>\n",
       "      <td>1.411727</td>\n",
       "      <td>0.796217</td>\n",
       "      <td>-0.128424</td>\n",
       "      <td>-0.703468</td>\n",
       "      <td>0.155636</td>\n",
       "      <td>-0.290774</td>\n",
       "      <td>-0.001993</td>\n",
       "    </tr>\n",
       "  </tbody>\n",
       "</table>\n",
       "</div>"
      ],
      "text/plain": [
       "   target       PC1       PC2       PC3       PC4       PC5       PC6  \\\n",
       "0       1 -2.429920  1.227545  5.318811 -2.126395 -0.544222  0.064007   \n",
       "1       1  0.721195 -0.281984 -0.328842 -2.358104 -0.759147  1.779358   \n",
       "2       1  2.568912 -0.318636  0.713543  0.530979  1.501292  0.285505   \n",
       "3       1  2.335994 -1.015175  0.566396  0.694903  1.201322 -0.532286   \n",
       "4       1  1.045232  1.367217 -1.124890  0.810735  1.259036  0.410420   \n",
       "\n",
       "        PC7       PC8       PC9      PC10      PC11      PC12      PC13  \\\n",
       "0 -0.050474  0.967102  0.506234  0.329697  1.151475 -1.725178  0.292555   \n",
       "1  0.473326  1.602062  0.986535 -2.173703  0.896514  1.006841 -1.478196   \n",
       "2 -0.125381  0.812555 -0.040128 -1.344519 -0.797776  0.557769  1.024341   \n",
       "3  0.810819 -0.179714  0.128637 -0.511888 -0.080877 -0.263581 -1.195391   \n",
       "4  0.171669  0.647294 -0.595034  1.743017  1.411727  0.796217 -0.128424   \n",
       "\n",
       "       PC14      PC15      PC16      PC17  \n",
       "0 -0.309600 -0.290396  0.114007 -0.019986  \n",
       "1 -0.209001 -0.220719 -0.397759  0.025964  \n",
       "2 -0.190077  0.858935  1.065946 -0.013232  \n",
       "3 -0.999259  0.212983  0.129738  0.015585  \n",
       "4 -0.703468  0.155636 -0.290774 -0.001993  "
      ]
     },
     "execution_count": 15,
     "metadata": {},
     "output_type": "execute_result"
    }
   ],
   "source": [
    "df_pca2 = df_pca.drop([\"Unnamed: 0\"], axis=1)\n",
    "df_pca2.head()"
   ]
  },
  {
   "cell_type": "code",
   "execution_count": 16,
   "id": "e457cced",
   "metadata": {},
   "outputs": [],
   "source": [
    "# Train/Test Split\n",
    "\n",
    "# First 2 PCs\n",
    "X_pca = df_pca2.iloc[:, 1:18] \n",
    "y_pca = df_pca2.iloc[:, 0]\n",
    "\n",
    "X_train_pca, X_test_pca, y_train_pca, y_test_pca = train_test_split(X_pca, y_pca, train_size=0.8, stratify=y_pca, random_state=0)"
   ]
  },
  {
   "cell_type": "code",
   "execution_count": 17,
   "id": "b6668d2b",
   "metadata": {},
   "outputs": [
    {
     "data": {
      "text/plain": [
       "1.0"
      ]
     },
     "execution_count": 17,
     "metadata": {},
     "output_type": "execute_result"
    }
   ],
   "source": [
    "# Train Sklearn Neural Network 1 (2 layers, 100 units each, relu)\n",
    "\n",
    "mlp = MLPClassifier(hidden_layer_sizes=(100,100), activation = 'relu', random_state = 1)\n",
    "mlp.fit(X_train_pca, y_train_pca)\n",
    "mlp.score(X_train_pca, y_train_pca) # 82.64%"
   ]
  },
  {
   "cell_type": "code",
   "execution_count": 18,
   "id": "c0096dff",
   "metadata": {},
   "outputs": [
    {
     "name": "stdout",
     "output_type": "stream",
     "text": [
      "0.7868852459016393\n"
     ]
    },
    {
     "data": {
      "image/png": "[encoded data removed]",
      "text/plain": [
       "<Figure size 432x288 with 2 Axes>"
      ]
     },
     "metadata": {
      "needs_background": "light"
     },
     "output_type": "display_data"
    }
   ],
   "source": [
    "# Test NN 1\n",
    "\n",
    "y_pred_pca = mlp.predict(X_test_pca)\n",
    "\n",
    "cf_matrix = confusion_matrix(y_test_pca,y_pred_pca)\n",
    "cmd = ConfusionMatrixDisplay(cf_matrix, display_labels=['0', '1'])\n",
    "cmd.plot()\n",
    "cmd.ax_.set(xlabel='Predicted', ylabel='True')\n",
    "\n",
    "score = accuracy_score(y_test_pca,y_pred_pca)\n",
    "print(score) # 78.69%"
   ]
  },
  {
   "cell_type": "code",
   "execution_count": 19,
   "id": "59b79c18",
   "metadata": {},
   "outputs": [
    {
     "name": "stdout",
     "output_type": "stream",
     "text": [
      "MLPClassifier(activation='logistic', hidden_layer_sizes=(50, 50))\n",
      "0.8360655737704918\n"
     ]
    },
    {
     "data": {
      "image/png": "[encoded data removed]",
      "text/plain": [
       "<Figure size 432x288 with 2 Axes>"
      ]
     },
     "metadata": {
      "needs_background": "light"
     },
     "output_type": "display_data"
    }
   ],
   "source": [
    "# Optimize Parameter Space\n",
    "\n",
    "# Supress the many, many warnings\n",
    "def warn(*args, **kwargs):\n",
    "    pass\n",
    "import warnings\n",
    "warnings.warn = warn\n",
    "\n",
    "parameters = {'hidden_layer_sizes':((50,50), (100,100), (100,100,100,100)), 'activation':('relu','logistic','tanh')} #set parameters for GridSearch\n",
    "mlp = MLPClassifier() # MLP object\n",
    "clf = GridSearchCV(mlp, parameters)\n",
    "clf.fit(X_train_pca, y_train_pca) #Fit GridSearch object\n",
    "print(clf.best_estimator_) \n",
    "y_pred = clf.predict(X_test_pca) #Generate prediction\n",
    "\n",
    "cf_matrix = confusion_matrix(y_test_pca,y_pred)\n",
    "cmd = ConfusionMatrixDisplay(cf_matrix, display_labels=['0', '1'])\n",
    "cmd.plot()\n",
    "cmd.ax_.set(xlabel='Predicted', ylabel='True')\n",
    "\n",
    "score = accuracy_score(y_test_pca,y_pred)\n",
    "print(score) # 83.61%"
   ]
  },
  {
   "cell_type": "code",
   "execution_count": 20,
   "id": "753ce13f",
   "metadata": {},
   "outputs": [
    {
     "name": "stdout",
     "output_type": "stream",
     "text": [
      "0.819672131147541\n"
     ]
    },
    {
     "data": {
      "text/html": [
       "<div>\n",
       "<style scoped>\n",
       "    .dataframe tbody tr th:only-of-type {\n",
       "        vertical-align: middle;\n",
       "    }\n",
       "\n",
       "    .dataframe tbody tr th {\n",
       "        vertical-align: top;\n",
       "    }\n",
       "\n",
       "    .dataframe thead th {\n",
       "        text-align: right;\n",
       "    }\n",
       "</style>\n",
       "<table border=\"1\" class=\"dataframe\">\n",
       "  <thead>\n",
       "    <tr style=\"text-align: right;\">\n",
       "      <th></th>\n",
       "      <th>PC1</th>\n",
       "      <th>PC2</th>\n",
       "      <th>PC5</th>\n",
       "      <th>PC6</th>\n",
       "      <th>PC11</th>\n",
       "      <th>PC12</th>\n",
       "      <th>PC15</th>\n",
       "      <th>PC17</th>\n",
       "    </tr>\n",
       "  </thead>\n",
       "  <tbody>\n",
       "    <tr>\n",
       "      <th>0</th>\n",
       "      <td>-3.407988</td>\n",
       "      <td>0.174735</td>\n",
       "      <td>0.070839</td>\n",
       "      <td>0.054638</td>\n",
       "      <td>0.195070</td>\n",
       "      <td>-1.686208</td>\n",
       "      <td>-0.197566</td>\n",
       "      <td>-0.049433</td>\n",
       "    </tr>\n",
       "    <tr>\n",
       "      <th>1</th>\n",
       "      <td>-3.051089</td>\n",
       "      <td>-0.654573</td>\n",
       "      <td>0.189628</td>\n",
       "      <td>-0.453040</td>\n",
       "      <td>-0.226481</td>\n",
       "      <td>0.923571</td>\n",
       "      <td>-0.377147</td>\n",
       "      <td>0.002726</td>\n",
       "    </tr>\n",
       "    <tr>\n",
       "      <th>2</th>\n",
       "      <td>1.489451</td>\n",
       "      <td>0.902967</td>\n",
       "      <td>-0.409508</td>\n",
       "      <td>0.768138</td>\n",
       "      <td>-0.095184</td>\n",
       "      <td>0.085373</td>\n",
       "      <td>-0.081110</td>\n",
       "      <td>-0.015370</td>\n",
       "    </tr>\n",
       "    <tr>\n",
       "      <th>3</th>\n",
       "      <td>-2.470847</td>\n",
       "      <td>-1.514092</td>\n",
       "      <td>0.747780</td>\n",
       "      <td>0.269109</td>\n",
       "      <td>0.744796</td>\n",
       "      <td>-0.133654</td>\n",
       "      <td>0.351442</td>\n",
       "      <td>-0.008991</td>\n",
       "    </tr>\n",
       "    <tr>\n",
       "      <th>4</th>\n",
       "      <td>-3.647846</td>\n",
       "      <td>-0.357112</td>\n",
       "      <td>0.488850</td>\n",
       "      <td>0.010032</td>\n",
       "      <td>1.299122</td>\n",
       "      <td>1.683977</td>\n",
       "      <td>0.647947</td>\n",
       "      <td>0.019714</td>\n",
       "    </tr>\n",
       "  </tbody>\n",
       "</table>\n",
       "</div>"
      ],
      "text/plain": [
       "        PC1       PC2       PC5       PC6      PC11      PC12      PC15  \\\n",
       "0 -3.407988  0.174735  0.070839  0.054638  0.195070 -1.686208 -0.197566   \n",
       "1 -3.051089 -0.654573  0.189628 -0.453040 -0.226481  0.923571 -0.377147   \n",
       "2  1.489451  0.902967 -0.409508  0.768138 -0.095184  0.085373 -0.081110   \n",
       "3 -2.470847 -1.514092  0.747780  0.269109  0.744796 -0.133654  0.351442   \n",
       "4 -3.647846 -0.357112  0.488850  0.010032  1.299122  1.683977  0.647947   \n",
       "\n",
       "       PC17  \n",
       "0 -0.049433  \n",
       "1  0.002726  \n",
       "2 -0.015370  \n",
       "3 -0.008991  \n",
       "4  0.019714  "
      ]
     },
     "execution_count": 20,
     "metadata": {},
     "output_type": "execute_result"
    },
    {
     "data": {
      "image/png": "[encoded data removed]",
      "text/plain": [
       "<Figure size 432x288 with 2 Axes>"
      ]
     },
     "metadata": {
      "needs_background": "light"
     },
     "output_type": "display_data"
    }
   ],
   "source": [
    "# Feature Selection\n",
    "\n",
    "mlp = MLPClassifier(activation='logistic', hidden_layer_sizes=(50, 50)) #create MLP object\n",
    "selector = SFS(mlp) #create Feature Selector object\n",
    "selector.fit(X_train_pca,y_train_pca) #run feature selection\n",
    "\n",
    "#Reduce your training set features selected\n",
    "X_train_fs = selector.transform(X_train_pca)\n",
    "X_test_fs = selector.transform(X_test_pca)\n",
    "\n",
    "#Re-run SVM with selected features\n",
    "mlp.fit(X_train_fs, y_train_pca)\n",
    "y_pred = mlp.predict(X_test_fs) \n",
    "\n",
    "cf_matrix = confusion_matrix(y_test_pca,y_pred)\n",
    "cmd = ConfusionMatrixDisplay(cf_matrix, display_labels=['0', '1'])\n",
    "cmd.plot()\n",
    "cmd.ax_.set(xlabel='Predicted', ylabel='True')\n",
    "\n",
    "score = accuracy_score(y_test_pca,y_pred)\n",
    "print(score) # 81.89%\n",
    "\n",
    "# Get selected features\n",
    "X_train_df = pd.DataFrame(data=X_train_pca)\n",
    "features = selector.fit_transform(X_train_pca,y_train_pca) \n",
    "feature_idx = selector.get_support(indices=True)\n",
    "feature_names = X_train_df.columns[feature_idx]\n",
    "features = pd.DataFrame(features, columns=feature_names)\n",
    "features.head()\n",
    "\n",
    "# Accuracy: 78.69%\n",
    "\n",
    "# Overall, this is WORSE than the optimized parameter model, so we shall disregard this."
   ]
  },
  {
   "cell_type": "code",
   "execution_count": 21,
   "id": "dfb55675",
   "metadata": {},
   "outputs": [],
   "source": [
    "# Overall, it seems as if GridSearch and SFS do NOT do a good job at assessing the best models\n",
    "# Therefore, I will begin to manually test models"
   ]
  },
  {
   "cell_type": "code",
   "execution_count": 22,
   "id": "405bf5fb",
   "metadata": {},
   "outputs": [],
   "source": [
    "# Train/Test Split\n",
    "\n",
    "# First 2 PCs\n",
    "X_pca = df_pca2.iloc[:, 1:3] \n",
    "y_pca = df_pca2.iloc[:, 0]\n",
    "\n",
    "X_train_pca, X_test_pca, y_train_pca, y_test_pca = train_test_split(X_pca, y_pca, train_size=0.8, stratify=y_pca, random_state=0)"
   ]
  },
  {
   "cell_type": "code",
   "execution_count": 25,
   "id": "9b019fd8",
   "metadata": {},
   "outputs": [
    {
     "name": "stdout",
     "output_type": "stream",
     "text": [
      "0.819672131147541\n",
      "0.8358208955223881\n"
     ]
    },
    {
     "data": {
      "image/png": "[encoded data removed]",
      "text/plain": [
       "<Figure size 432x288 with 2 Axes>"
      ]
     },
     "metadata": {
      "needs_background": "light"
     },
     "output_type": "display_data"
    }
   ],
   "source": [
    "# Train Sklearn Neural Network 1 (2 layers, 100 units each, relu)\n",
    "\n",
    "mlp = MLPClassifier(hidden_layer_sizes=(100,100), activation = 'relu', random_state = 1)\n",
    "mlp.fit(X_train_pca, y_train_pca)\n",
    "\n",
    "# Test NN 1\n",
    "\n",
    "y_pred_pca = mlp.predict(X_test_pca)\n",
    "\n",
    "cf_matrix = confusion_matrix(y_test_pca,y_pred_pca)\n",
    "cmd = ConfusionMatrixDisplay(cf_matrix, display_labels=['0', '1'])\n",
    "cmd.plot()\n",
    "cmd.ax_.set(xlabel='Predicted', ylabel='True')\n",
    "\n",
    "score = accuracy_score(y_test_pca,y_pred_pca)\n",
    "f1 = f1_score(y_test_pca,y_pred_pca)\n",
    "print(score) # 81.97%\n",
    "print(f1) # 83.58%"
   ]
  },
  {
   "cell_type": "code",
   "execution_count": 26,
   "id": "0346c22d",
   "metadata": {},
   "outputs": [
    {
     "name": "stdout",
     "output_type": "stream",
     "text": [
      "0.8524590163934426\n",
      "0.8615384615384615\n"
     ]
    },
    {
     "data": {
      "image/png": "[encoded data removed]",
      "text/plain": [
       "<Figure size 432x288 with 2 Axes>"
      ]
     },
     "metadata": {
      "needs_background": "light"
     },
     "output_type": "display_data"
    }
   ],
   "source": [
    "# Train Sklearn Neural Network 2 (2 layers, 100 units each, logistic)\n",
    "\n",
    "mlp = MLPClassifier(hidden_layer_sizes=(100,100), activation = 'logistic', random_state = 1)\n",
    "mlp.fit(X_train_pca, y_train_pca)\n",
    "\n",
    "y_pred_pca = mlp.predict(X_test_pca)\n",
    "\n",
    "cf_matrix = confusion_matrix(y_test_pca,y_pred_pca)\n",
    "cmd = ConfusionMatrixDisplay(cf_matrix, display_labels=['0', '1'])\n",
    "cmd.plot()\n",
    "cmd.ax_.set(xlabel='Predicted', ylabel='True')\n",
    "\n",
    "score = accuracy_score(y_test_pca,y_pred_pca)\n",
    "f1 = f1_score(y_test_pca,y_pred_pca)\n",
    "print(score) # 85.25%\n",
    "print(f1) # 86.15%"
   ]
  },
  {
   "cell_type": "code",
   "execution_count": 27,
   "id": "09c5ba24",
   "metadata": {},
   "outputs": [
    {
     "name": "stdout",
     "output_type": "stream",
     "text": [
      "0.8524590163934426\n",
      "0.8615384615384615\n"
     ]
    },
    {
     "data": {
      "image/png": "[encoded data removed]",
      "text/plain": [
       "<Figure size 432x288 with 2 Axes>"
      ]
     },
     "metadata": {
      "needs_background": "light"
     },
     "output_type": "display_data"
    }
   ],
   "source": [
    "# Train Sklearn Neural Network 3 (2 layers, 100 units each, tanh)\n",
    "\n",
    "mlp = MLPClassifier(hidden_layer_sizes=(100,100), activation = 'tanh', random_state = 1)\n",
    "mlp.fit(X_train_pca, y_train_pca)\n",
    "\n",
    "y_pred_pca = mlp.predict(X_test_pca)\n",
    "\n",
    "cf_matrix = confusion_matrix(y_test_pca,y_pred_pca)\n",
    "cmd = ConfusionMatrixDisplay(cf_matrix, display_labels=['0', '1'])\n",
    "cmd.plot()\n",
    "cmd.ax_.set(xlabel='Predicted', ylabel='True')\n",
    "\n",
    "score = accuracy_score(y_test_pca,y_pred_pca)\n",
    "f1 = f1_score(y_test_pca,y_pred_pca)\n",
    "print(score) # 85.25%\n",
    "print(f1) # 86.15%"
   ]
  },
  {
   "cell_type": "code",
   "execution_count": 28,
   "id": "0fd626d4",
   "metadata": {},
   "outputs": [
    {
     "name": "stdout",
     "output_type": "stream",
     "text": [
      "0.8524590163934426\n",
      "0.8615384615384615\n"
     ]
    },
    {
     "data": {
      "image/png": "[encoded data removed]",
      "text/plain": [
       "<Figure size 432x288 with 2 Axes>"
      ]
     },
     "metadata": {
      "needs_background": "light"
     },
     "output_type": "display_data"
    }
   ],
   "source": [
    "# Train Sklearn Neural Network 4 (2 layers, 50 units each, logistic)\n",
    "\n",
    "mlp = MLPClassifier(hidden_layer_sizes=(50,50), activation = 'logistic', random_state = 1)\n",
    "mlp.fit(X_train_pca, y_train_pca)\n",
    "\n",
    "y_pred_pca = mlp.predict(X_test_pca)\n",
    "\n",
    "cf_matrix = confusion_matrix(y_test_pca,y_pred_pca)\n",
    "cmd = ConfusionMatrixDisplay(cf_matrix, display_labels=['0', '1'])\n",
    "cmd.plot()\n",
    "cmd.ax_.set(xlabel='Predicted', ylabel='True')\n",
    "\n",
    "score = accuracy_score(y_test_pca,y_pred_pca)\n",
    "f1 = f1_score(y_test_pca,y_pred_pca)\n",
    "print(score) # 85.25%\n",
    "print(f1) # 86.15%"
   ]
  },
  {
   "cell_type": "code",
   "execution_count": 29,
   "id": "a18a02b3",
   "metadata": {},
   "outputs": [],
   "source": [
    "# Train/Test Split\n",
    "\n",
    "# PCs 1 and 3\n",
    "X_pca_1_3 = df_pca2.iloc[:, 1:4]\n",
    "X_pca_1_3 = X_pca_1_3.drop([\"PC2\"], axis=1)\n",
    "y_pca_1_3 = df_pca2.iloc[:, 0]\n",
    "\n",
    "X_train_pca, X_test_pca, y_train_pca, y_test_pca = train_test_split(X_pca_1_3, y_pca_1_3, train_size=0.8, stratify=y_pca_1_3, random_state=0)"
   ]
  },
  {
   "cell_type": "code",
   "execution_count": 30,
   "id": "aa751cfc",
   "metadata": {},
   "outputs": [
    {
     "name": "stdout",
     "output_type": "stream",
     "text": [
      "0.9016393442622951\n",
      "0.9117647058823529\n"
     ]
    },
    {
     "data": {
      "image/png": "[encoded data removed]",
      "text/plain": [
       "<Figure size 432x288 with 2 Axes>"
      ]
     },
     "metadata": {
      "needs_background": "light"
     },
     "output_type": "display_data"
    }
   ],
   "source": [
    "# Train Sklearn Neural Network 1 (2 layers, 100 units each, relu) Winner\n",
    "\n",
    "mlp = MLPClassifier(hidden_layer_sizes=(100,100), activation = 'relu', random_state = 1)\n",
    "mlp.fit(X_train_pca, y_train_pca)\n",
    "\n",
    "y_pred_pca = mlp.predict(X_test_pca)\n",
    "\n",
    "cf_matrix = confusion_matrix(y_test_pca,y_pred_pca)\n",
    "cmd = ConfusionMatrixDisplay(cf_matrix, display_labels=['0', '1'])\n",
    "cmd.plot()\n",
    "cmd.ax_.set(xlabel='Predicted', ylabel='True')\n",
    "\n",
    "score = accuracy_score(y_test_pca,y_pred_pca)\n",
    "f1 = f1_score(y_test_pca,y_pred_pca)\n",
    "print(score) # 90.16%\n",
    "print(f1) # 91.18%"
   ]
  },
  {
   "cell_type": "code",
   "execution_count": 31,
   "id": "adbe459f",
   "metadata": {},
   "outputs": [
    {
     "name": "stdout",
     "output_type": "stream",
     "text": [
      "0.8852459016393442\n",
      "0.8955223880597014\n"
     ]
    },
    {
     "data": {
      "image/png": "[encoded data removed]",
      "text/plain": [
       "<Figure size 432x288 with 2 Axes>"
      ]
     },
     "metadata": {
      "needs_background": "light"
     },
     "output_type": "display_data"
    }
   ],
   "source": [
    "# Train Sklearn Neural Network 2 (2 layers, 100 units each, logistic)\n",
    "\n",
    "mlp = MLPClassifier(hidden_layer_sizes=(100,100), activation = 'logistic', random_state = 1)\n",
    "mlp.fit(X_train_pca, y_train_pca)\n",
    "\n",
    "y_pred_pca = mlp.predict(X_test_pca)\n",
    "\n",
    "cf_matrix = confusion_matrix(y_test_pca,y_pred_pca)\n",
    "cmd = ConfusionMatrixDisplay(cf_matrix, display_labels=['0', '1'])\n",
    "cmd.plot()\n",
    "cmd.ax_.set(xlabel='Predicted', ylabel='True')\n",
    "\n",
    "score = accuracy_score(y_test_pca,y_pred_pca)\n",
    "f1 = f1_score(y_test_pca,y_pred_pca)\n",
    "print(score) # 88.52%\n",
    "print(f1) # 89.55%"
   ]
  },
  {
   "cell_type": "code",
   "execution_count": 32,
   "id": "e6f4b73a",
   "metadata": {},
   "outputs": [
    {
     "name": "stdout",
     "output_type": "stream",
     "text": [
      "0.8688524590163934\n",
      "0.8787878787878788\n"
     ]
    },
    {
     "data": {
      "image/png": "[encoded data removed]",
      "text/plain": [
       "<Figure size 432x288 with 2 Axes>"
      ]
     },
     "metadata": {
      "needs_background": "light"
     },
     "output_type": "display_data"
    }
   ],
   "source": [
    "# Train Sklearn Neural Network 2 (2 layers, 100 units each, tanh)\n",
    "\n",
    "mlp = MLPClassifier(hidden_layer_sizes=(100,100), activation = 'tanh', random_state = 1)\n",
    "mlp.fit(X_train_pca, y_train_pca)\n",
    "\n",
    "y_pred_pca = mlp.predict(X_test_pca)\n",
    "\n",
    "cf_matrix = confusion_matrix(y_test_pca,y_pred_pca)\n",
    "cmd = ConfusionMatrixDisplay(cf_matrix, display_labels=['0', '1'])\n",
    "cmd.plot()\n",
    "cmd.ax_.set(xlabel='Predicted', ylabel='True')\n",
    "\n",
    "score = accuracy_score(y_test_pca,y_pred_pca)\n",
    "f1 = f1_score(y_test_pca,y_pred_pca)\n",
    "print(score) # 86.89%\n",
    "print(f1) # 87.88%"
   ]
  },
  {
   "cell_type": "code",
   "execution_count": null,
   "id": "8c9f8499",
   "metadata": {},
   "outputs": [],
   "source": [
    "# The Winning Model is:\n",
    "# mlp = MLPClassifier(hidden_layer_sizes=(100,100), activation = 'relu', random_state = 1)\n",
    "# Accuracy: 90.16%\n",
    "# F1: 91.18%"
   ]
  }
 ],
 "metadata": {
  "kernelspec": {
   "display_name": "Python 3 (ipykernel)",
   "language": "python",
   "name": "python3"
  },
  "language_info": {
   "codemirror_mode": {
    "name": "ipython",
    "version": 3
   },
   "file_extension": ".py",
   "mimetype": "text/x-python",
   "name": "python",
   "nbconvert_exporter": "python",
   "pygments_lexer": "ipython3",
   "version": "3.9.7"
  }
 },
 "nbformat": 4,
 "nbformat_minor": 5
}
