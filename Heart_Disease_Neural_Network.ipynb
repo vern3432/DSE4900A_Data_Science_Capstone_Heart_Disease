{
 "cells": [
  {
   "cell_type": "code",
   "execution_count": 1,
   "id": "b55de570",
   "metadata": {},
   "outputs": [],
   "source": [
    "# Libraries\n",
    "\n",
    "import pandas as pd\n",
    "import numpy as np\n",
    "import torch\n",
    "import torch.nn as nn\n",
    "from torch.utils.data import Dataset\n",
    "from sklearn.preprocessing import MinMaxScaler\n",
    "from sklearn.model_selection import train_test_split\n",
    "from sklearn.metrics import accuracy_score, confusion_matrix, ConfusionMatrixDisplay\n",
    "from sklearn.neural_network import MLPClassifier"
   ]
  },
  {
   "cell_type": "code",
   "execution_count": 2,
   "id": "26b113ad",
   "metadata": {},
   "outputs": [],
   "source": [
    "# Loading the data\n",
    "\n",
    "df = pd.read_csv('Heart_Disease_Classification_Dataset_Cleaned.csv')"
   ]
  },
  {
   "cell_type": "code",
   "execution_count": 3,
   "id": "bc6a4e2c",
   "metadata": {},
   "outputs": [
    {
     "data": {
      "text/html": [
       "<div>\n",
       "<style scoped>\n",
       "    .dataframe tbody tr th:only-of-type {\n",
       "        vertical-align: middle;\n",
       "    }\n",
       "\n",
       "    .dataframe tbody tr th {\n",
       "        vertical-align: top;\n",
       "    }\n",
       "\n",
       "    .dataframe thead th {\n",
       "        text-align: right;\n",
       "    }\n",
       "</style>\n",
       "<table border=\"1\" class=\"dataframe\">\n",
       "  <thead>\n",
       "    <tr style=\"text-align: right;\">\n",
       "      <th></th>\n",
       "      <th>Unnamed: 0</th>\n",
       "      <th>Unnamed: 0.1</th>\n",
       "      <th>Unnamed: 0.1.1</th>\n",
       "      <th>age</th>\n",
       "      <th>sex</th>\n",
       "      <th>trestbps</th>\n",
       "      <th>chol</th>\n",
       "      <th>fbs</th>\n",
       "      <th>restecg</th>\n",
       "      <th>thalach</th>\n",
       "      <th>...</th>\n",
       "      <th>oldpeak</th>\n",
       "      <th>slope</th>\n",
       "      <th>ca</th>\n",
       "      <th>chest_pain_1</th>\n",
       "      <th>chest_pain_2</th>\n",
       "      <th>chest_pain_3</th>\n",
       "      <th>thal_1</th>\n",
       "      <th>thal_2</th>\n",
       "      <th>thal_3</th>\n",
       "      <th>target</th>\n",
       "    </tr>\n",
       "  </thead>\n",
       "  <tbody>\n",
       "    <tr>\n",
       "      <th>0</th>\n",
       "      <td>0</td>\n",
       "      <td>0</td>\n",
       "      <td>0</td>\n",
       "      <td>63</td>\n",
       "      <td>1</td>\n",
       "      <td>145.000000</td>\n",
       "      <td>233.0</td>\n",
       "      <td>1</td>\n",
       "      <td>0</td>\n",
       "      <td>150.0</td>\n",
       "      <td>...</td>\n",
       "      <td>2.3</td>\n",
       "      <td>0</td>\n",
       "      <td>0</td>\n",
       "      <td>0</td>\n",
       "      <td>0</td>\n",
       "      <td>1</td>\n",
       "      <td>1</td>\n",
       "      <td>0</td>\n",
       "      <td>0</td>\n",
       "      <td>1</td>\n",
       "    </tr>\n",
       "    <tr>\n",
       "      <th>1</th>\n",
       "      <td>1</td>\n",
       "      <td>1</td>\n",
       "      <td>1</td>\n",
       "      <td>37</td>\n",
       "      <td>1</td>\n",
       "      <td>130.000000</td>\n",
       "      <td>250.0</td>\n",
       "      <td>0</td>\n",
       "      <td>1</td>\n",
       "      <td>187.0</td>\n",
       "      <td>...</td>\n",
       "      <td>3.5</td>\n",
       "      <td>0</td>\n",
       "      <td>0</td>\n",
       "      <td>0</td>\n",
       "      <td>1</td>\n",
       "      <td>0</td>\n",
       "      <td>0</td>\n",
       "      <td>1</td>\n",
       "      <td>0</td>\n",
       "      <td>1</td>\n",
       "    </tr>\n",
       "    <tr>\n",
       "      <th>2</th>\n",
       "      <td>2</td>\n",
       "      <td>2</td>\n",
       "      <td>2</td>\n",
       "      <td>41</td>\n",
       "      <td>0</td>\n",
       "      <td>130.000000</td>\n",
       "      <td>204.0</td>\n",
       "      <td>0</td>\n",
       "      <td>0</td>\n",
       "      <td>172.0</td>\n",
       "      <td>...</td>\n",
       "      <td>1.4</td>\n",
       "      <td>2</td>\n",
       "      <td>0</td>\n",
       "      <td>1</td>\n",
       "      <td>0</td>\n",
       "      <td>0</td>\n",
       "      <td>0</td>\n",
       "      <td>1</td>\n",
       "      <td>0</td>\n",
       "      <td>1</td>\n",
       "    </tr>\n",
       "    <tr>\n",
       "      <th>3</th>\n",
       "      <td>3</td>\n",
       "      <td>3</td>\n",
       "      <td>3</td>\n",
       "      <td>56</td>\n",
       "      <td>1</td>\n",
       "      <td>120.000000</td>\n",
       "      <td>236.0</td>\n",
       "      <td>0</td>\n",
       "      <td>1</td>\n",
       "      <td>178.0</td>\n",
       "      <td>...</td>\n",
       "      <td>0.8</td>\n",
       "      <td>2</td>\n",
       "      <td>0</td>\n",
       "      <td>1</td>\n",
       "      <td>0</td>\n",
       "      <td>0</td>\n",
       "      <td>0</td>\n",
       "      <td>1</td>\n",
       "      <td>0</td>\n",
       "      <td>1</td>\n",
       "    </tr>\n",
       "    <tr>\n",
       "      <th>4</th>\n",
       "      <td>4</td>\n",
       "      <td>4</td>\n",
       "      <td>4</td>\n",
       "      <td>57</td>\n",
       "      <td>0</td>\n",
       "      <td>132.679938</td>\n",
       "      <td>354.0</td>\n",
       "      <td>0</td>\n",
       "      <td>1</td>\n",
       "      <td>163.0</td>\n",
       "      <td>...</td>\n",
       "      <td>0.6</td>\n",
       "      <td>2</td>\n",
       "      <td>0</td>\n",
       "      <td>0</td>\n",
       "      <td>0</td>\n",
       "      <td>0</td>\n",
       "      <td>0</td>\n",
       "      <td>1</td>\n",
       "      <td>0</td>\n",
       "      <td>1</td>\n",
       "    </tr>\n",
       "  </tbody>\n",
       "</table>\n",
       "<p>5 rows × 21 columns</p>\n",
       "</div>"
      ],
      "text/plain": [
       "   Unnamed: 0  Unnamed: 0.1  Unnamed: 0.1.1  age  sex    trestbps   chol  fbs  \\\n",
       "0           0             0               0   63    1  145.000000  233.0    1   \n",
       "1           1             1               1   37    1  130.000000  250.0    0   \n",
       "2           2             2               2   41    0  130.000000  204.0    0   \n",
       "3           3             3               3   56    1  120.000000  236.0    0   \n",
       "4           4             4               4   57    0  132.679938  354.0    0   \n",
       "\n",
       "   restecg  thalach  ...  oldpeak  slope  ca  chest_pain_1  chest_pain_2  \\\n",
       "0        0    150.0  ...      2.3      0   0             0             0   \n",
       "1        1    187.0  ...      3.5      0   0             0             1   \n",
       "2        0    172.0  ...      1.4      2   0             1             0   \n",
       "3        1    178.0  ...      0.8      2   0             1             0   \n",
       "4        1    163.0  ...      0.6      2   0             0             0   \n",
       "\n",
       "   chest_pain_3  thal_1  thal_2  thal_3  target  \n",
       "0             1       1       0       0       1  \n",
       "1             0       0       1       0       1  \n",
       "2             0       0       1       0       1  \n",
       "3             0       0       1       0       1  \n",
       "4             0       0       1       0       1  \n",
       "\n",
       "[5 rows x 21 columns]"
      ]
     },
     "execution_count": 3,
     "metadata": {},
     "output_type": "execute_result"
    }
   ],
   "source": [
    "# Looking at the data\n",
    "\n",
    "df.head()"
   ]
  },
  {
   "cell_type": "code",
   "execution_count": 4,
   "id": "362ef84c",
   "metadata": {},
   "outputs": [
    {
     "data": {
      "text/html": [
       "<div>\n",
       "<style scoped>\n",
       "    .dataframe tbody tr th:only-of-type {\n",
       "        vertical-align: middle;\n",
       "    }\n",
       "\n",
       "    .dataframe tbody tr th {\n",
       "        vertical-align: top;\n",
       "    }\n",
       "\n",
       "    .dataframe thead th {\n",
       "        text-align: right;\n",
       "    }\n",
       "</style>\n",
       "<table border=\"1\" class=\"dataframe\">\n",
       "  <thead>\n",
       "    <tr style=\"text-align: right;\">\n",
       "      <th></th>\n",
       "      <th>age</th>\n",
       "      <th>sex</th>\n",
       "      <th>trestbps</th>\n",
       "      <th>chol</th>\n",
       "      <th>fbs</th>\n",
       "      <th>restecg</th>\n",
       "      <th>thalach</th>\n",
       "      <th>exang</th>\n",
       "      <th>oldpeak</th>\n",
       "      <th>slope</th>\n",
       "      <th>ca</th>\n",
       "      <th>chest_pain_1</th>\n",
       "      <th>chest_pain_2</th>\n",
       "      <th>chest_pain_3</th>\n",
       "      <th>thal_1</th>\n",
       "      <th>thal_2</th>\n",
       "      <th>thal_3</th>\n",
       "      <th>target</th>\n",
       "    </tr>\n",
       "  </thead>\n",
       "  <tbody>\n",
       "    <tr>\n",
       "      <th>0</th>\n",
       "      <td>63</td>\n",
       "      <td>1</td>\n",
       "      <td>145.000000</td>\n",
       "      <td>233.0</td>\n",
       "      <td>1</td>\n",
       "      <td>0</td>\n",
       "      <td>150.0</td>\n",
       "      <td>0</td>\n",
       "      <td>2.3</td>\n",
       "      <td>0</td>\n",
       "      <td>0</td>\n",
       "      <td>0</td>\n",
       "      <td>0</td>\n",
       "      <td>1</td>\n",
       "      <td>1</td>\n",
       "      <td>0</td>\n",
       "      <td>0</td>\n",
       "      <td>1</td>\n",
       "    </tr>\n",
       "    <tr>\n",
       "      <th>1</th>\n",
       "      <td>37</td>\n",
       "      <td>1</td>\n",
       "      <td>130.000000</td>\n",
       "      <td>250.0</td>\n",
       "      <td>0</td>\n",
       "      <td>1</td>\n",
       "      <td>187.0</td>\n",
       "      <td>0</td>\n",
       "      <td>3.5</td>\n",
       "      <td>0</td>\n",
       "      <td>0</td>\n",
       "      <td>0</td>\n",
       "      <td>1</td>\n",
       "      <td>0</td>\n",
       "      <td>0</td>\n",
       "      <td>1</td>\n",
       "      <td>0</td>\n",
       "      <td>1</td>\n",
       "    </tr>\n",
       "    <tr>\n",
       "      <th>2</th>\n",
       "      <td>41</td>\n",
       "      <td>0</td>\n",
       "      <td>130.000000</td>\n",
       "      <td>204.0</td>\n",
       "      <td>0</td>\n",
       "      <td>0</td>\n",
       "      <td>172.0</td>\n",
       "      <td>0</td>\n",
       "      <td>1.4</td>\n",
       "      <td>2</td>\n",
       "      <td>0</td>\n",
       "      <td>1</td>\n",
       "      <td>0</td>\n",
       "      <td>0</td>\n",
       "      <td>0</td>\n",
       "      <td>1</td>\n",
       "      <td>0</td>\n",
       "      <td>1</td>\n",
       "    </tr>\n",
       "    <tr>\n",
       "      <th>3</th>\n",
       "      <td>56</td>\n",
       "      <td>1</td>\n",
       "      <td>120.000000</td>\n",
       "      <td>236.0</td>\n",
       "      <td>0</td>\n",
       "      <td>1</td>\n",
       "      <td>178.0</td>\n",
       "      <td>0</td>\n",
       "      <td>0.8</td>\n",
       "      <td>2</td>\n",
       "      <td>0</td>\n",
       "      <td>1</td>\n",
       "      <td>0</td>\n",
       "      <td>0</td>\n",
       "      <td>0</td>\n",
       "      <td>1</td>\n",
       "      <td>0</td>\n",
       "      <td>1</td>\n",
       "    </tr>\n",
       "    <tr>\n",
       "      <th>4</th>\n",
       "      <td>57</td>\n",
       "      <td>0</td>\n",
       "      <td>132.679938</td>\n",
       "      <td>354.0</td>\n",
       "      <td>0</td>\n",
       "      <td>1</td>\n",
       "      <td>163.0</td>\n",
       "      <td>1</td>\n",
       "      <td>0.6</td>\n",
       "      <td>2</td>\n",
       "      <td>0</td>\n",
       "      <td>0</td>\n",
       "      <td>0</td>\n",
       "      <td>0</td>\n",
       "      <td>0</td>\n",
       "      <td>1</td>\n",
       "      <td>0</td>\n",
       "      <td>1</td>\n",
       "    </tr>\n",
       "  </tbody>\n",
       "</table>\n",
       "</div>"
      ],
      "text/plain": [
       "   age  sex    trestbps   chol  fbs  restecg  thalach  exang  oldpeak  slope  \\\n",
       "0   63    1  145.000000  233.0    1        0    150.0      0      2.3      0   \n",
       "1   37    1  130.000000  250.0    0        1    187.0      0      3.5      0   \n",
       "2   41    0  130.000000  204.0    0        0    172.0      0      1.4      2   \n",
       "3   56    1  120.000000  236.0    0        1    178.0      0      0.8      2   \n",
       "4   57    0  132.679938  354.0    0        1    163.0      1      0.6      2   \n",
       "\n",
       "   ca  chest_pain_1  chest_pain_2  chest_pain_3  thal_1  thal_2  thal_3  \\\n",
       "0   0             0             0             1       1       0       0   \n",
       "1   0             0             1             0       0       1       0   \n",
       "2   0             1             0             0       0       1       0   \n",
       "3   0             1             0             0       0       1       0   \n",
       "4   0             0             0             0       0       1       0   \n",
       "\n",
       "   target  \n",
       "0       1  \n",
       "1       1  \n",
       "2       1  \n",
       "3       1  \n",
       "4       1  "
      ]
     },
     "execution_count": 4,
     "metadata": {},
     "output_type": "execute_result"
    }
   ],
   "source": [
    "# Dropping Unnamed (Index value, not relevant for analysis)\n",
    "\n",
    "df2 = df.drop([\"Unnamed: 0\"], axis=1)\n",
    "df2 = df2.drop([\"Unnamed: 0.1\"], axis=1)\n",
    "df2 = df2.drop([\"Unnamed: 0.1.1\"], axis=1)\n",
    "df2.head()"
   ]
  },
  {
   "cell_type": "code",
   "execution_count": 5,
   "id": "8caec412",
   "metadata": {},
   "outputs": [],
   "source": [
    "# Train/Test Split\n",
    "\n",
    "X = df2.iloc[:, 0:17] \n",
    "y = df2.iloc[:, 17]\n",
    "\n",
    "# Min-Max\n",
    "\n",
    "mms = MinMaxScaler()\n",
    "X_minmax = mms.fit_transform(X)\n",
    "\n",
    "X_train, X_test, y_train, y_test = train_test_split(X_minmax, y, train_size=0.8, stratify=y, random_state=0)"
   ]
  },
  {
   "cell_type": "code",
   "execution_count": 6,
   "id": "a33fe4a4",
   "metadata": {},
   "outputs": [
    {
     "name": "stderr",
     "output_type": "stream",
     "text": [
      "/Users/gregory/opt/anaconda3/lib/python3.9/site-packages/sklearn/neural_network/_multilayer_perceptron.py:686: ConvergenceWarning: Stochastic Optimizer: Maximum iterations (200) reached and the optimization hasn't converged yet.\n",
      "  warnings.warn(\n"
     ]
    },
    {
     "data": {
      "text/plain": [
       "0.9710743801652892"
      ]
     },
     "execution_count": 6,
     "metadata": {},
     "output_type": "execute_result"
    }
   ],
   "source": [
    "# Train Sklearn Neural Network 1 (2 layers, 100 units each, relu)\n",
    "\n",
    "mlp = MLPClassifier(hidden_layer_sizes=(100,100), activation = 'relu', random_state = 1)\n",
    "mlp.fit(X_train, y_train)\n",
    "mlp.score(X_train, y_train) # 97.1%"
   ]
  },
  {
   "cell_type": "code",
   "execution_count": 7,
   "id": "6b0d850c",
   "metadata": {},
   "outputs": [
    {
     "name": "stdout",
     "output_type": "stream",
     "text": [
      "0.8688524590163934\n"
     ]
    },
    {
     "data": {
      "image/png": "[encoded data removed]",
      "text/plain": [
       "<Figure size 432x288 with 2 Axes>"
      ]
     },
     "metadata": {
      "needs_background": "light"
     },
     "output_type": "display_data"
    }
   ],
   "source": [
    "# Test NN 1\n",
    "\n",
    "y_pred = mlp.predict(X_test)\n",
    "\n",
    "cf_matrix = confusion_matrix(y_test,y_pred)\n",
    "cmd = ConfusionMatrixDisplay(cf_matrix, display_labels=['0', '1'])\n",
    "cmd.plot()\n",
    "cmd.ax_.set(xlabel='Predicted', ylabel='True')\n",
    "\n",
    "score = accuracy_score(y_test,y_pred)\n",
    "print(score) # 86.89%"
   ]
  },
  {
   "cell_type": "code",
   "execution_count": 8,
   "id": "2c504893",
   "metadata": {},
   "outputs": [
    {
     "name": "stderr",
     "output_type": "stream",
     "text": [
      "/Users/gregory/opt/anaconda3/lib/python3.9/site-packages/sklearn/neural_network/_multilayer_perceptron.py:686: ConvergenceWarning: Stochastic Optimizer: Maximum iterations (200) reached and the optimization hasn't converged yet.\n",
      "  warnings.warn(\n"
     ]
    },
    {
     "data": {
      "text/plain": [
       "1.0"
      ]
     },
     "execution_count": 8,
     "metadata": {},
     "output_type": "execute_result"
    }
   ],
   "source": [
    "# Train Sklearn Neural Network 2 (4 layers, 100 units each, relu)\n",
    "\n",
    "mlp = MLPClassifier(hidden_layer_sizes=(100,100,100,100), activation = 'relu', random_state = 1)\n",
    "mlp.fit(X_train, y_train)\n",
    "mlp.score(X_train, y_train) # 100%"
   ]
  },
  {
   "cell_type": "code",
   "execution_count": 9,
   "id": "315298f5",
   "metadata": {},
   "outputs": [
    {
     "name": "stdout",
     "output_type": "stream",
     "text": [
      "0.8032786885245902\n"
     ]
    },
    {
     "data": {
      "image/png": "[encoded data removed]",
      "text/plain": [
       "<Figure size 432x288 with 2 Axes>"
      ]
     },
     "metadata": {
      "needs_background": "light"
     },
     "output_type": "display_data"
    }
   ],
   "source": [
    "# Test NN 2\n",
    "\n",
    "y_pred = mlp.predict(X_test)\n",
    "\n",
    "cf_matrix = confusion_matrix(y_test,y_pred)\n",
    "cmd = ConfusionMatrixDisplay(cf_matrix, display_labels=['0', '1'])\n",
    "cmd.plot()\n",
    "cmd.ax_.set(xlabel='Predicted', ylabel='True')\n",
    "\n",
    "score = accuracy_score(y_test,y_pred)\n",
    "print(score) # 80.33%"
   ]
  },
  {
   "cell_type": "code",
   "execution_count": 10,
   "id": "6784fddb",
   "metadata": {},
   "outputs": [
    {
     "name": "stderr",
     "output_type": "stream",
     "text": [
      "/Users/gregory/opt/anaconda3/lib/python3.9/site-packages/sklearn/neural_network/_multilayer_perceptron.py:686: ConvergenceWarning: Stochastic Optimizer: Maximum iterations (200) reached and the optimization hasn't converged yet.\n",
      "  warnings.warn(\n"
     ]
    },
    {
     "data": {
      "text/plain": [
       "0.8388429752066116"
      ]
     },
     "execution_count": 10,
     "metadata": {},
     "output_type": "execute_result"
    }
   ],
   "source": [
    "# Train Sklearn Neural Network 3 (2 layers, 100 units each, logistic)\n",
    "\n",
    "mlp = MLPClassifier(hidden_layer_sizes=(100,100), activation = 'logistic', random_state = 1)\n",
    "mlp.fit(X_train, y_train)\n",
    "mlp.score(X_train, y_train) # 83.88%"
   ]
  },
  {
   "cell_type": "code",
   "execution_count": 11,
   "id": "077b28d9",
   "metadata": {},
   "outputs": [
    {
     "name": "stdout",
     "output_type": "stream",
     "text": [
      "0.8360655737704918\n"
     ]
    },
    {
     "data": {
      "image/png": "[encoded data removed]",
      "text/plain": [
       "<Figure size 432x288 with 2 Axes>"
      ]
     },
     "metadata": {
      "needs_background": "light"
     },
     "output_type": "display_data"
    }
   ],
   "source": [
    "# Test NN 3\n",
    "\n",
    "y_pred = mlp.predict(X_test)\n",
    "\n",
    "cf_matrix = confusion_matrix(y_test,y_pred)\n",
    "cmd = ConfusionMatrixDisplay(cf_matrix, display_labels=['0', '1'])\n",
    "cmd.plot()\n",
    "cmd.ax_.set(xlabel='Predicted', ylabel='True')\n",
    "\n",
    "score = accuracy_score(y_test,y_pred)\n",
    "print(score) # 83.61%"
   ]
  },
  {
   "cell_type": "code",
   "execution_count": 12,
   "id": "38e595d4",
   "metadata": {},
   "outputs": [
    {
     "name": "stderr",
     "output_type": "stream",
     "text": [
      "/Users/gregory/opt/anaconda3/lib/python3.9/site-packages/sklearn/neural_network/_multilayer_perceptron.py:686: ConvergenceWarning: Stochastic Optimizer: Maximum iterations (200) reached and the optimization hasn't converged yet.\n",
      "  warnings.warn(\n"
     ]
    },
    {
     "data": {
      "text/plain": [
       "0.8512396694214877"
      ]
     },
     "execution_count": 12,
     "metadata": {},
     "output_type": "execute_result"
    }
   ],
   "source": [
    "# Train Sklearn Neural Network 4 (2 layers, 100 units each, tanh)\n",
    "\n",
    "mlp = MLPClassifier(hidden_layer_sizes=(100,100), activation = 'tanh', random_state = 1)\n",
    "mlp.fit(X_train, y_train)\n",
    "mlp.score(X_train, y_train) # 85.12%"
   ]
  },
  {
   "cell_type": "code",
   "execution_count": 13,
   "id": "22c7ba34",
   "metadata": {},
   "outputs": [
    {
     "name": "stdout",
     "output_type": "stream",
     "text": [
      "0.8360655737704918\n"
     ]
    },
    {
     "data": {
      "image/png": "[encoded data removed]",
      "text/plain": [
       "<Figure size 432x288 with 2 Axes>"
      ]
     },
     "metadata": {
      "needs_background": "light"
     },
     "output_type": "display_data"
    }
   ],
   "source": [
    "# Test NN 4\n",
    "\n",
    "y_pred = mlp.predict(X_test)\n",
    "\n",
    "cf_matrix = confusion_matrix(y_test,y_pred)\n",
    "cmd = ConfusionMatrixDisplay(cf_matrix, display_labels=['0', '1'])\n",
    "cmd.plot()\n",
    "cmd.ax_.set(xlabel='Predicted', ylabel='True')\n",
    "\n",
    "score = accuracy_score(y_test,y_pred)\n",
    "print(score) # 83.61%"
   ]
  },
  {
   "cell_type": "code",
   "execution_count": 14,
   "id": "f7c58314",
   "metadata": {},
   "outputs": [
    {
     "name": "stderr",
     "output_type": "stream",
     "text": [
      "/Users/gregory/opt/anaconda3/lib/python3.9/site-packages/sklearn/neural_network/_multilayer_perceptron.py:686: ConvergenceWarning: Stochastic Optimizer: Maximum iterations (200) reached and the optimization hasn't converged yet.\n",
      "  warnings.warn(\n"
     ]
    },
    {
     "data": {
      "text/plain": [
       "0.9917355371900827"
      ]
     },
     "execution_count": 14,
     "metadata": {},
     "output_type": "execute_result"
    }
   ],
   "source": [
    "# Train Sklearn Neural Network 5 (2 layers, 200 units each, relu)\n",
    "\n",
    "mlp = MLPClassifier(hidden_layer_sizes=(200,200), activation = 'relu', random_state = 1)\n",
    "mlp.fit(X_train, y_train)\n",
    "mlp.score(X_train, y_train) # 99.17%"
   ]
  },
  {
   "cell_type": "code",
   "execution_count": 15,
   "id": "fc9714a6",
   "metadata": {},
   "outputs": [
    {
     "name": "stdout",
     "output_type": "stream",
     "text": [
      "0.8524590163934426\n"
     ]
    },
    {
     "data": {
      "image/png": "[encoded data removed]",
      "text/plain": [
       "<Figure size 432x288 with 2 Axes>"
      ]
     },
     "metadata": {
      "needs_background": "light"
     },
     "output_type": "display_data"
    }
   ],
   "source": [
    "# Test NN 5\n",
    "\n",
    "y_pred = mlp.predict(X_test)\n",
    "\n",
    "cf_matrix = confusion_matrix(y_test,y_pred)\n",
    "cmd = ConfusionMatrixDisplay(cf_matrix, display_labels=['0', '1'])\n",
    "cmd.plot()\n",
    "cmd.ax_.set(xlabel='Predicted', ylabel='True')\n",
    "\n",
    "score = accuracy_score(y_test,y_pred)\n",
    "print(score) # 85.25%"
   ]
  },
  {
   "cell_type": "code",
   "execution_count": 16,
   "id": "3ff973c5",
   "metadata": {},
   "outputs": [
    {
     "name": "stderr",
     "output_type": "stream",
     "text": [
      "/Users/gregory/opt/anaconda3/lib/python3.9/site-packages/sklearn/neural_network/_multilayer_perceptron.py:686: ConvergenceWarning: Stochastic Optimizer: Maximum iterations (200) reached and the optimization hasn't converged yet.\n",
      "  warnings.warn(\n"
     ]
    },
    {
     "data": {
      "text/plain": [
       "0.9173553719008265"
      ]
     },
     "execution_count": 16,
     "metadata": {},
     "output_type": "execute_result"
    }
   ],
   "source": [
    "# Train Sklearn Neural Network 6 (2 layers, 50 units each, relu)\n",
    "\n",
    "mlp = MLPClassifier(hidden_layer_sizes=(50,50), activation = 'relu', random_state = 1)\n",
    "mlp.fit(X_train, y_train)\n",
    "mlp.score(X_train, y_train) # 91.74%"
   ]
  },
  {
   "cell_type": "code",
   "execution_count": 17,
   "id": "9db3d840",
   "metadata": {},
   "outputs": [
    {
     "name": "stdout",
     "output_type": "stream",
     "text": [
      "0.8688524590163934\n"
     ]
    },
    {
     "data": {
      "image/png": "[encoded data removed]",
      "text/plain": [
       "<Figure size 432x288 with 2 Axes>"
      ]
     },
     "metadata": {
      "needs_background": "light"
     },
     "output_type": "display_data"
    }
   ],
   "source": [
    "# Test NN 6\n",
    "\n",
    "y_pred = mlp.predict(X_test)\n",
    "\n",
    "cf_matrix = confusion_matrix(y_test,y_pred)\n",
    "cmd = ConfusionMatrixDisplay(cf_matrix, display_labels=['0', '1'])\n",
    "cmd.plot()\n",
    "cmd.ax_.set(xlabel='Predicted', ylabel='True')\n",
    "\n",
    "score = accuracy_score(y_test,y_pred)\n",
    "print(score) # 86.89%"
   ]
  },
  {
   "cell_type": "code",
   "execution_count": 30,
   "id": "474065e6",
   "metadata": {},
   "outputs": [],
   "source": [
    "# Writing Train Set to CSV\n",
    "\n",
    "df1 = pd.DataFrame(X_train, columns = ['age','sex','trestbps','chol','fbs','restecg','thalach','exang','oldpeak','slope','ca','chest_pain_1','chest_pain_2','chest_pain_3','thal_1','thal_2','thal_3'])\n",
    "df1['target'] = y_train\n",
    "\n",
    "df1.to_csv('/Users/gregory/Desktop/school/capstone/code/hd_nn_train.csv', index=False)"
   ]
  },
  {
   "cell_type": "code",
   "execution_count": 31,
   "id": "29e1879a",
   "metadata": {},
   "outputs": [],
   "source": [
    "# Defining FeatureDataset\n",
    "\n",
    "class FeatureDataset(Dataset):\n",
    "    \n",
    "    def __init__(self, file_name):\n",
    "        \n",
    "        # Read in a csv file\n",
    "        file_out = pd.read_csv(file_name)\n",
    "        x = file_out.iloc[:,:-1].values\n",
    "        y = file_out.iloc[:,-1:].values\n",
    "        \n",
    "        # Convert to torch tensors\n",
    "        self.X_batch = torch.tensor(x, dtype = torch.float32)\n",
    "        self.y_batch = torch.from_numpy(y).view(1, -1)[0].type(torch.LongTensor)\n",
    "    \n",
    "    def __len__(self):\n",
    "        return len(self.y_batch)\n",
    "    \n",
    "    def __getitem__(self, idx):\n",
    "        return self.X_batch[idx], self.y_batch[idx]"
   ]
  },
  {
   "cell_type": "code",
   "execution_count": 32,
   "id": "65013e4b",
   "metadata": {},
   "outputs": [],
   "source": [
    "# Running the train set through FeatureDataset\n",
    "\n",
    "feature_set = FeatureDataset('/Users/gregory/Desktop/school/capstone/code/hd_nn_train.csv')"
   ]
  },
  {
   "cell_type": "code",
   "execution_count": 21,
   "id": "7d53d1b6",
   "metadata": {},
   "outputs": [
    {
     "name": "stdout",
     "output_type": "stream",
     "text": [
      "<torch.utils.data.dataloader.DataLoader object at 0x7fb461d48670>\n"
     ]
    }
   ],
   "source": [
    "# Torch data object\n",
    "\n",
    "hd_torch = torch.utils.data.DataLoader(feature_set, batch_size=50, shuffle=True)\n",
    "print(hd_torch)"
   ]
  },
  {
   "cell_type": "code",
   "execution_count": 59,
   "id": "34973f5c",
   "metadata": {},
   "outputs": [],
   "source": [
    "# Defining Torch NN\n",
    "\n",
    "class NeuralNetworkClassificationModel(nn.Module):\n",
    "    def __init__(self, input_dim, output_dim):\n",
    "        super(NeuralNetworkClassificationModel,self).__init__()\n",
    "        self.input_layer = nn.Linear(input_dim,100)\n",
    "        self.hidden_layer1 = nn.Linear(100,100)\n",
    "        self.hidden_layer2 = nn.Linear(100,100)\n",
    "        self.output_layer = nn.Linear(100,output_dim)\n",
    "        self.relu = nn.ReLU()\n",
    "        self.Sigmoid = nn.Sigmoid()\n",
    "        \n",
    "    def forward(self,x):\n",
    "        out = self.relu(self.input_layer(x))\n",
    "        out = self.relu(self.hidden_layer1(out))\n",
    "        out = self.relu(self.hidden_layer2(out))\n",
    "        out = self.output_layer(out)\n",
    "        return out"
   ]
  },
  {
   "cell_type": "code",
   "execution_count": 64,
   "id": "675abafb",
   "metadata": {},
   "outputs": [],
   "source": [
    "# Initialize\n",
    "\n",
    "n_epochs = 200\n",
    "input_dim = 17\n",
    "output_dim = 2\n",
    "model = NeuralNetworkClassificationModel(input_dim,output_dim)\n",
    "\n",
    "learning_rate = 0.0001\n",
    "criterion = nn.CrossEntropyLoss()\n",
    "optimizer = torch.optim.Adam(model.parameters(),lr=learning_rate)"
   ]
  },
  {
   "cell_type": "code",
   "execution_count": 65,
   "id": "b7299485",
   "metadata": {},
   "outputs": [
    {
     "name": "stdout",
     "output_type": "stream",
     "text": [
      "0.5409836065573771\n",
      "Confusion Matrix\n"
     ]
    },
    {
     "data": {
      "text/plain": [
       "[Text(0.5, 0, 'Predicted'), Text(0, 0.5, 'True')]"
      ]
     },
     "execution_count": 65,
     "metadata": {},
     "output_type": "execute_result"
    },
    {
     "data": {
      "image/png": "[encoded data removed]",
      "text/plain": [
       "<Figure size 432x288 with 2 Axes>"
      ]
     },
     "metadata": {
      "needs_background": "light"
     },
     "output_type": "display_data"
    }
   ],
   "source": [
    "# Running the Model\n",
    "\n",
    "def clean_labels(y_batch):\n",
    "    y_batch[y_batch < 0] = 0  # Replace negative values with 0\n",
    "    y_batch[y_batch > 1] = 1  # Replace values > 1 with 1\n",
    "    return y_batch\n",
    "\n",
    "model.train()\n",
    "for epoch in range(n_epochs):\n",
    "    for X_batch, y_batch in hd_torch:\n",
    "        y_batch = clean_labels(y_batch)\n",
    "        assert y_batch.min() >= 0 and y_batch.max() <= 1\n",
    "        optimizer.zero_grad()\n",
    "        y_pred = model(X_batch)\n",
    "        loss = criterion(y_pred, y_batch)\n",
    "        loss.backward()\n",
    "        optimizer.step()\n",
    "        \n",
    "model.eval()\n",
    "X_test_torch = torch.tensor(X_test, dtype = torch.float32)\n",
    "y_pred = model(X_test_torch)\n",
    "\n",
    "final_pred = []\n",
    "for i in range(len(y_pred)):\n",
    "    final_pred.append(torch.argmax(y_pred[i]))\n",
    "    \n",
    "y_pred_final = np.array(final_pred)\n",
    "y_test_final = np.array(y_test)\n",
    "\n",
    "# Accuracy Score\n",
    "\n",
    "print(accuracy_score(y_test_final, y_pred_final))\n",
    "\n",
    "# Confusion Matrix\n",
    "\n",
    "print('Confusion Matrix')\n",
    "cf_matrix = confusion_matrix(y_test_final, y_pred_final)\n",
    "cmd = ConfusionMatrixDisplay(cf_matrix, display_labels=['0', '1'])\n",
    "cmd.plot()\n",
    "cmd.ax_.set(xlabel='Predicted', ylabel='True')"
   ]
  },
  {
   "cell_type": "code",
   "execution_count": 68,
   "id": "b9a7131d",
   "metadata": {},
   "outputs": [
    {
     "data": {
      "text/html": [
       "<div>\n",
       "<style scoped>\n",
       "    .dataframe tbody tr th:only-of-type {\n",
       "        vertical-align: middle;\n",
       "    }\n",
       "\n",
       "    .dataframe tbody tr th {\n",
       "        vertical-align: top;\n",
       "    }\n",
       "\n",
       "    .dataframe thead th {\n",
       "        text-align: right;\n",
       "    }\n",
       "</style>\n",
       "<table border=\"1\" class=\"dataframe\">\n",
       "  <thead>\n",
       "    <tr style=\"text-align: right;\">\n",
       "      <th></th>\n",
       "      <th>Unnamed: 0</th>\n",
       "      <th>target</th>\n",
       "      <th>PC1</th>\n",
       "      <th>PC2</th>\n",
       "      <th>PC3</th>\n",
       "      <th>PC4</th>\n",
       "      <th>PC5</th>\n",
       "      <th>PC6</th>\n",
       "      <th>PC7</th>\n",
       "      <th>PC8</th>\n",
       "      <th>PC9</th>\n",
       "      <th>PC10</th>\n",
       "      <th>PC11</th>\n",
       "      <th>PC12</th>\n",
       "      <th>PC13</th>\n",
       "      <th>PC14</th>\n",
       "      <th>PC15</th>\n",
       "      <th>PC16</th>\n",
       "      <th>PC17</th>\n",
       "    </tr>\n",
       "  </thead>\n",
       "  <tbody>\n",
       "    <tr>\n",
       "      <th>0</th>\n",
       "      <td>1</td>\n",
       "      <td>1</td>\n",
       "      <td>-2.429920</td>\n",
       "      <td>1.227545</td>\n",
       "      <td>5.318811</td>\n",
       "      <td>-2.126395</td>\n",
       "      <td>-0.544222</td>\n",
       "      <td>0.064007</td>\n",
       "      <td>-0.050474</td>\n",
       "      <td>0.967102</td>\n",
       "      <td>0.506234</td>\n",
       "      <td>0.329697</td>\n",
       "      <td>1.151475</td>\n",
       "      <td>-1.725178</td>\n",
       "      <td>0.292555</td>\n",
       "      <td>-0.309600</td>\n",
       "      <td>-0.290396</td>\n",
       "      <td>0.114007</td>\n",
       "      <td>-0.019986</td>\n",
       "    </tr>\n",
       "    <tr>\n",
       "      <th>1</th>\n",
       "      <td>2</td>\n",
       "      <td>1</td>\n",
       "      <td>0.721195</td>\n",
       "      <td>-0.281984</td>\n",
       "      <td>-0.328842</td>\n",
       "      <td>-2.358104</td>\n",
       "      <td>-0.759147</td>\n",
       "      <td>1.779358</td>\n",
       "      <td>0.473326</td>\n",
       "      <td>1.602062</td>\n",
       "      <td>0.986535</td>\n",
       "      <td>-2.173703</td>\n",
       "      <td>0.896514</td>\n",
       "      <td>1.006841</td>\n",
       "      <td>-1.478196</td>\n",
       "      <td>-0.209001</td>\n",
       "      <td>-0.220719</td>\n",
       "      <td>-0.397759</td>\n",
       "      <td>0.025964</td>\n",
       "    </tr>\n",
       "    <tr>\n",
       "      <th>2</th>\n",
       "      <td>3</td>\n",
       "      <td>1</td>\n",
       "      <td>2.568912</td>\n",
       "      <td>-0.318636</td>\n",
       "      <td>0.713543</td>\n",
       "      <td>0.530979</td>\n",
       "      <td>1.501292</td>\n",
       "      <td>0.285505</td>\n",
       "      <td>-0.125381</td>\n",
       "      <td>0.812555</td>\n",
       "      <td>-0.040128</td>\n",
       "      <td>-1.344519</td>\n",
       "      <td>-0.797776</td>\n",
       "      <td>0.557769</td>\n",
       "      <td>1.024341</td>\n",
       "      <td>-0.190077</td>\n",
       "      <td>0.858935</td>\n",
       "      <td>1.065946</td>\n",
       "      <td>-0.013232</td>\n",
       "    </tr>\n",
       "    <tr>\n",
       "      <th>3</th>\n",
       "      <td>4</td>\n",
       "      <td>1</td>\n",
       "      <td>2.335994</td>\n",
       "      <td>-1.015175</td>\n",
       "      <td>0.566396</td>\n",
       "      <td>0.694903</td>\n",
       "      <td>1.201322</td>\n",
       "      <td>-0.532286</td>\n",
       "      <td>0.810819</td>\n",
       "      <td>-0.179714</td>\n",
       "      <td>0.128637</td>\n",
       "      <td>-0.511888</td>\n",
       "      <td>-0.080877</td>\n",
       "      <td>-0.263581</td>\n",
       "      <td>-1.195391</td>\n",
       "      <td>-0.999259</td>\n",
       "      <td>0.212983</td>\n",
       "      <td>0.129738</td>\n",
       "      <td>0.015585</td>\n",
       "    </tr>\n",
       "    <tr>\n",
       "      <th>4</th>\n",
       "      <td>5</td>\n",
       "      <td>1</td>\n",
       "      <td>1.045232</td>\n",
       "      <td>1.367217</td>\n",
       "      <td>-1.124890</td>\n",
       "      <td>0.810735</td>\n",
       "      <td>1.259036</td>\n",
       "      <td>0.410420</td>\n",
       "      <td>0.171669</td>\n",
       "      <td>0.647294</td>\n",
       "      <td>-0.595034</td>\n",
       "      <td>1.743017</td>\n",
       "      <td>1.411727</td>\n",
       "      <td>0.796217</td>\n",
       "      <td>-0.128424</td>\n",
       "      <td>-0.703468</td>\n",
       "      <td>0.155636</td>\n",
       "      <td>-0.290774</td>\n",
       "      <td>-0.001993</td>\n",
       "    </tr>\n",
       "  </tbody>\n",
       "</table>\n",
       "</div>"
      ],
      "text/plain": [
       "   Unnamed: 0  target       PC1       PC2       PC3       PC4       PC5  \\\n",
       "0           1       1 -2.429920  1.227545  5.318811 -2.126395 -0.544222   \n",
       "1           2       1  0.721195 -0.281984 -0.328842 -2.358104 -0.759147   \n",
       "2           3       1  2.568912 -0.318636  0.713543  0.530979  1.501292   \n",
       "3           4       1  2.335994 -1.015175  0.566396  0.694903  1.201322   \n",
       "4           5       1  1.045232  1.367217 -1.124890  0.810735  1.259036   \n",
       "\n",
       "        PC6       PC7       PC8       PC9      PC10      PC11      PC12  \\\n",
       "0  0.064007 -0.050474  0.967102  0.506234  0.329697  1.151475 -1.725178   \n",
       "1  1.779358  0.473326  1.602062  0.986535 -2.173703  0.896514  1.006841   \n",
       "2  0.285505 -0.125381  0.812555 -0.040128 -1.344519 -0.797776  0.557769   \n",
       "3 -0.532286  0.810819 -0.179714  0.128637 -0.511888 -0.080877 -0.263581   \n",
       "4  0.410420  0.171669  0.647294 -0.595034  1.743017  1.411727  0.796217   \n",
       "\n",
       "       PC13      PC14      PC15      PC16      PC17  \n",
       "0  0.292555 -0.309600 -0.290396  0.114007 -0.019986  \n",
       "1 -1.478196 -0.209001 -0.220719 -0.397759  0.025964  \n",
       "2  1.024341 -0.190077  0.858935  1.065946 -0.013232  \n",
       "3 -1.195391 -0.999259  0.212983  0.129738  0.015585  \n",
       "4 -0.128424 -0.703468  0.155636 -0.290774 -0.001993  "
      ]
     },
     "execution_count": 68,
     "metadata": {},
     "output_type": "execute_result"
    }
   ],
   "source": [
    "# PCA\n",
    "\n",
    "# Loading the data\n",
    "\n",
    "df_pca = pd.read_csv('hd_pca.csv')\n",
    "\n",
    "# Looking at the data\n",
    "\n",
    "df_pca.head()"
   ]
  },
  {
   "cell_type": "code",
   "execution_count": 69,
   "id": "f809d120",
   "metadata": {},
   "outputs": [
    {
     "data": {
      "text/html": [
       "<div>\n",
       "<style scoped>\n",
       "    .dataframe tbody tr th:only-of-type {\n",
       "        vertical-align: middle;\n",
       "    }\n",
       "\n",
       "    .dataframe tbody tr th {\n",
       "        vertical-align: top;\n",
       "    }\n",
       "\n",
       "    .dataframe thead th {\n",
       "        text-align: right;\n",
       "    }\n",
       "</style>\n",
       "<table border=\"1\" class=\"dataframe\">\n",
       "  <thead>\n",
       "    <tr style=\"text-align: right;\">\n",
       "      <th></th>\n",
       "      <th>target</th>\n",
       "      <th>PC1</th>\n",
       "      <th>PC2</th>\n",
       "      <th>PC3</th>\n",
       "      <th>PC4</th>\n",
       "      <th>PC5</th>\n",
       "      <th>PC6</th>\n",
       "      <th>PC7</th>\n",
       "      <th>PC8</th>\n",
       "      <th>PC9</th>\n",
       "      <th>PC10</th>\n",
       "      <th>PC11</th>\n",
       "      <th>PC12</th>\n",
       "      <th>PC13</th>\n",
       "      <th>PC14</th>\n",
       "      <th>PC15</th>\n",
       "      <th>PC16</th>\n",
       "      <th>PC17</th>\n",
       "    </tr>\n",
       "  </thead>\n",
       "  <tbody>\n",
       "    <tr>\n",
       "      <th>0</th>\n",
       "      <td>1</td>\n",
       "      <td>-2.429920</td>\n",
       "      <td>1.227545</td>\n",
       "      <td>5.318811</td>\n",
       "      <td>-2.126395</td>\n",
       "      <td>-0.544222</td>\n",
       "      <td>0.064007</td>\n",
       "      <td>-0.050474</td>\n",
       "      <td>0.967102</td>\n",
       "      <td>0.506234</td>\n",
       "      <td>0.329697</td>\n",
       "      <td>1.151475</td>\n",
       "      <td>-1.725178</td>\n",
       "      <td>0.292555</td>\n",
       "      <td>-0.309600</td>\n",
       "      <td>-0.290396</td>\n",
       "      <td>0.114007</td>\n",
       "      <td>-0.019986</td>\n",
       "    </tr>\n",
       "    <tr>\n",
       "      <th>1</th>\n",
       "      <td>1</td>\n",
       "      <td>0.721195</td>\n",
       "      <td>-0.281984</td>\n",
       "      <td>-0.328842</td>\n",
       "      <td>-2.358104</td>\n",
       "      <td>-0.759147</td>\n",
       "      <td>1.779358</td>\n",
       "      <td>0.473326</td>\n",
       "      <td>1.602062</td>\n",
       "      <td>0.986535</td>\n",
       "      <td>-2.173703</td>\n",
       "      <td>0.896514</td>\n",
       "      <td>1.006841</td>\n",
       "      <td>-1.478196</td>\n",
       "      <td>-0.209001</td>\n",
       "      <td>-0.220719</td>\n",
       "      <td>-0.397759</td>\n",
       "      <td>0.025964</td>\n",
       "    </tr>\n",
       "    <tr>\n",
       "      <th>2</th>\n",
       "      <td>1</td>\n",
       "      <td>2.568912</td>\n",
       "      <td>-0.318636</td>\n",
       "      <td>0.713543</td>\n",
       "      <td>0.530979</td>\n",
       "      <td>1.501292</td>\n",
       "      <td>0.285505</td>\n",
       "      <td>-0.125381</td>\n",
       "      <td>0.812555</td>\n",
       "      <td>-0.040128</td>\n",
       "      <td>-1.344519</td>\n",
       "      <td>-0.797776</td>\n",
       "      <td>0.557769</td>\n",
       "      <td>1.024341</td>\n",
       "      <td>-0.190077</td>\n",
       "      <td>0.858935</td>\n",
       "      <td>1.065946</td>\n",
       "      <td>-0.013232</td>\n",
       "    </tr>\n",
       "    <tr>\n",
       "      <th>3</th>\n",
       "      <td>1</td>\n",
       "      <td>2.335994</td>\n",
       "      <td>-1.015175</td>\n",
       "      <td>0.566396</td>\n",
       "      <td>0.694903</td>\n",
       "      <td>1.201322</td>\n",
       "      <td>-0.532286</td>\n",
       "      <td>0.810819</td>\n",
       "      <td>-0.179714</td>\n",
       "      <td>0.128637</td>\n",
       "      <td>-0.511888</td>\n",
       "      <td>-0.080877</td>\n",
       "      <td>-0.263581</td>\n",
       "      <td>-1.195391</td>\n",
       "      <td>-0.999259</td>\n",
       "      <td>0.212983</td>\n",
       "      <td>0.129738</td>\n",
       "      <td>0.015585</td>\n",
       "    </tr>\n",
       "    <tr>\n",
       "      <th>4</th>\n",
       "      <td>1</td>\n",
       "      <td>1.045232</td>\n",
       "      <td>1.367217</td>\n",
       "      <td>-1.124890</td>\n",
       "      <td>0.810735</td>\n",
       "      <td>1.259036</td>\n",
       "      <td>0.410420</td>\n",
       "      <td>0.171669</td>\n",
       "      <td>0.647294</td>\n",
       "      <td>-0.595034</td>\n",
       "      <td>1.743017</td>\n",
       "      <td>1.411727</td>\n",
       "      <td>0.796217</td>\n",
       "      <td>-0.128424</td>\n",
       "      <td>-0.703468</td>\n",
       "      <td>0.155636</td>\n",
       "      <td>-0.290774</td>\n",
       "      <td>-0.001993</td>\n",
       "    </tr>\n",
       "  </tbody>\n",
       "</table>\n",
       "</div>"
      ],
      "text/plain": [
       "   target       PC1       PC2       PC3       PC4       PC5       PC6  \\\n",
       "0       1 -2.429920  1.227545  5.318811 -2.126395 -0.544222  0.064007   \n",
       "1       1  0.721195 -0.281984 -0.328842 -2.358104 -0.759147  1.779358   \n",
       "2       1  2.568912 -0.318636  0.713543  0.530979  1.501292  0.285505   \n",
       "3       1  2.335994 -1.015175  0.566396  0.694903  1.201322 -0.532286   \n",
       "4       1  1.045232  1.367217 -1.124890  0.810735  1.259036  0.410420   \n",
       "\n",
       "        PC7       PC8       PC9      PC10      PC11      PC12      PC13  \\\n",
       "0 -0.050474  0.967102  0.506234  0.329697  1.151475 -1.725178  0.292555   \n",
       "1  0.473326  1.602062  0.986535 -2.173703  0.896514  1.006841 -1.478196   \n",
       "2 -0.125381  0.812555 -0.040128 -1.344519 -0.797776  0.557769  1.024341   \n",
       "3  0.810819 -0.179714  0.128637 -0.511888 -0.080877 -0.263581 -1.195391   \n",
       "4  0.171669  0.647294 -0.595034  1.743017  1.411727  0.796217 -0.128424   \n",
       "\n",
       "       PC14      PC15      PC16      PC17  \n",
       "0 -0.309600 -0.290396  0.114007 -0.019986  \n",
       "1 -0.209001 -0.220719 -0.397759  0.025964  \n",
       "2 -0.190077  0.858935  1.065946 -0.013232  \n",
       "3 -0.999259  0.212983  0.129738  0.015585  \n",
       "4 -0.703468  0.155636 -0.290774 -0.001993  "
      ]
     },
     "execution_count": 69,
     "metadata": {},
     "output_type": "execute_result"
    }
   ],
   "source": [
    "df_pca2 = df_pca.drop([\"Unnamed: 0\"], axis=1)\n",
    "df_pca2.head()"
   ]
  },
  {
   "cell_type": "code",
   "execution_count": 71,
   "id": "58be8566",
   "metadata": {},
   "outputs": [],
   "source": [
    "# Train/Test Split\n",
    "\n",
    "# First 2 PCs\n",
    "X_pca = df_pca2.iloc[:, 1:3] \n",
    "y_pca = df_pca2.iloc[:, 0]\n",
    "\n",
    "X_train_pca, X_test_pca, y_train_pca, y_test_pca = train_test_split(X_pca, y_pca, train_size=0.8, stratify=y, random_state=0)"
   ]
  },
  {
   "cell_type": "code",
   "execution_count": 72,
   "id": "2bd4b87a",
   "metadata": {},
   "outputs": [
    {
     "name": "stderr",
     "output_type": "stream",
     "text": [
      "/Users/gregory/opt/anaconda3/lib/python3.9/site-packages/sklearn/neural_network/_multilayer_perceptron.py:686: ConvergenceWarning: Stochastic Optimizer: Maximum iterations (200) reached and the optimization hasn't converged yet.\n",
      "  warnings.warn(\n"
     ]
    },
    {
     "data": {
      "text/plain": [
       "0.8264462809917356"
      ]
     },
     "execution_count": 72,
     "metadata": {},
     "output_type": "execute_result"
    }
   ],
   "source": [
    "# Train Sklearn Neural Network 1 (2 layers, 100 units each, relu)\n",
    "\n",
    "mlp = MLPClassifier(hidden_layer_sizes=(100,100), activation = 'relu', random_state = 1)\n",
    "mlp.fit(X_train_pca, y_train_pca)\n",
    "mlp.score(X_train_pca, y_train_pca) # 82.64%"
   ]
  },
  {
   "cell_type": "code",
   "execution_count": 73,
   "id": "335276f4",
   "metadata": {},
   "outputs": [
    {
     "name": "stdout",
     "output_type": "stream",
     "text": [
      "0.819672131147541\n"
     ]
    },
    {
     "data": {
      "image/png": "[encoded data removed]",
      "text/plain": [
       "<Figure size 432x288 with 2 Axes>"
      ]
     },
     "metadata": {
      "needs_background": "light"
     },
     "output_type": "display_data"
    }
   ],
   "source": [
    "# Test NN 1\n",
    "\n",
    "y_pred_pca = mlp.predict(X_test_pca)\n",
    "\n",
    "cf_matrix = confusion_matrix(y_test_pca,y_pred_pca)\n",
    "cmd = ConfusionMatrixDisplay(cf_matrix, display_labels=['0', '1'])\n",
    "cmd.plot()\n",
    "cmd.ax_.set(xlabel='Predicted', ylabel='True')\n",
    "\n",
    "score = accuracy_score(y_test_pca,y_pred_pca)\n",
    "print(score) # 81.97%"
   ]
  },
  {
   "cell_type": "code",
   "execution_count": null,
   "id": "2a90ddcd",
   "metadata": {},
   "outputs": [],
   "source": []
  }
 ],
 "metadata": {
  "kernelspec": {
   "display_name": "Python 3 (ipykernel)",
   "language": "python",
   "name": "python3"
  },
  "language_info": {
   "codemirror_mode": {
    "name": "ipython",
    "version": 3
   },
   "file_extension": ".py",
   "mimetype": "text/x-python",
   "name": "python",
   "nbconvert_exporter": "python",
   "pygments_lexer": "ipython3",
   "version": "3.9.7"
  }
 },
 "nbformat": 4,
 "nbformat_minor": 5
}
