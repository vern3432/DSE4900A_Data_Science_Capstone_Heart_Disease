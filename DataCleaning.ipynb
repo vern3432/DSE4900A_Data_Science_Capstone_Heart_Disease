{
 "cells": [
  {
   "cell_type": "code",
   "execution_count": 2,
   "metadata": {},
   "outputs": [],
   "source": [
    "import pandas as pd\n",
    "\n",
    "# Load the dataset (assuming the file is in the same directory as the notebook)\n",
    "file_name = \"Heart_Disease_Classification_Dataset.csv\"\n",
    "data = pd.read_csv(file_name)"
   ]
  },
  {
   "cell_type": "code",
   "execution_count": 3,
   "metadata": {},
   "outputs": [
    {
     "name": "stdout",
     "output_type": "stream",
     "text": [
      "Dataset Preview:\n",
      "   Unnamed: 0  age     sex  cp  trestbps   chol  fbs  restecg  thalach  exang  \\\n",
      "0           0   63    male   3     145.0  233.0    1        0    150.0      0   \n",
      "1           1   37    male   2     130.0  250.0    0        1    187.0      0   \n",
      "2           2   41  female   1     130.0  204.0    0        0    172.0      0   \n",
      "3           3   56    male   1     120.0  236.0    0        1    178.0      0   \n",
      "4           4   57  female   0       NaN  354.0    0        1    163.0      1   \n",
      "\n",
      "   oldpeak  slope  ca  thal target  \n",
      "0      2.3      0   0     1    yes  \n",
      "1      3.5      0   0     2    yes  \n",
      "2      1.4      2   0     2    yes  \n",
      "3      0.8      2   0     2    yes  \n",
      "4      0.6      2   0     2    yes  \n",
      "\n",
      "Basic Report:\n",
      "       Unnamed: 0         age          cp    trestbps        chol         fbs  \\\n",
      "count  303.000000  303.000000  303.000000  299.000000  302.000000  303.000000   \n",
      "mean   151.000000   54.366337    0.966997  131.712375  246.317881    0.148515   \n",
      "std     87.612784    9.082101    1.032052   17.629032   51.908285    0.356198   \n",
      "min      0.000000   29.000000    0.000000   94.000000  126.000000    0.000000   \n",
      "25%     75.500000   47.500000    0.000000  120.000000  211.000000    0.000000   \n",
      "50%    151.000000   55.000000    1.000000  130.000000  240.500000    0.000000   \n",
      "75%    226.500000   61.000000    2.000000  140.000000  274.750000    0.000000   \n",
      "max    302.000000   77.000000    3.000000  200.000000  564.000000    1.000000   \n",
      "\n",
      "          restecg     thalach       exang     oldpeak       slope          ca  \\\n",
      "count  303.000000  298.000000  303.000000  303.000000  303.000000  303.000000   \n",
      "mean     0.528053  149.865772    0.326733    1.039604    1.399340    0.729373   \n",
      "std      0.525860   22.563687    0.469794    1.161075    0.616226    1.022606   \n",
      "min      0.000000   71.000000    0.000000    0.000000    0.000000    0.000000   \n",
      "25%      0.000000  134.500000    0.000000    0.000000    1.000000    0.000000   \n",
      "50%      1.000000  152.500000    0.000000    0.800000    1.000000    0.000000   \n",
      "75%      1.000000  166.000000    1.000000    1.600000    2.000000    1.000000   \n",
      "max      2.000000  202.000000    1.000000    6.200000    2.000000    4.000000   \n",
      "\n",
      "             thal  \n",
      "count  303.000000  \n",
      "mean     2.313531  \n",
      "std      0.612277  \n",
      "min      0.000000  \n",
      "25%      2.000000  \n",
      "50%      2.000000  \n",
      "75%      3.000000  \n",
      "max      3.000000  \n"
     ]
    }
   ],
   "source": [
    "print(\"Dataset Preview:\")\n",
    "print(data.head())\n",
    "print(\"\\nBasic Report:\")\n",
    "print(data.describe())"
   ]
  },
  {
   "cell_type": "code",
   "execution_count": 4,
   "metadata": {},
   "outputs": [
    {
     "name": "stdout",
     "output_type": "stream",
     "text": [
      "\n",
      "Missing Values by Column:\n",
      "trestbps    4\n",
      "chol        1\n",
      "thalach     5\n",
      "dtype: int64\n"
     ]
    }
   ],
   "source": [
    "# Check for missing values in each column\n",
    "print(\"\\nMissing Values by Column:\")\n",
    "missing_values = data.isnull().sum()\n",
    "print(missing_values[missing_values > 0])"
   ]
  }
 ],
 "metadata": {
  "kernelspec": {
   "display_name": "Python 3",
   "language": "python",
   "name": "python3"
  },
  "language_info": {
   "codemirror_mode": {
    "name": "ipython",
    "version": 3
   },
   "file_extension": ".py",
   "mimetype": "text/x-python",
   "name": "python",
   "nbconvert_exporter": "python",
   "pygments_lexer": "ipython3",
   "version": "3.11.2"
  }
 },
 "nbformat": 4,
 "nbformat_minor": 2
}
