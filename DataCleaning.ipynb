{
 "cells": [
  {
   "cell_type": "code",
   "execution_count": 23,
   "metadata": {},
   "outputs": [
    {
     "name": "stdout",
     "output_type": "stream",
     "text": [
      "\n",
      "Value Mappings:\n",
      "Sex Mapping: {'male': 1, 'female': 0}\n",
      "Target Mapping: {'yes': 1, 'no': 0}\n"
     ]
    }
   ],
   "source": [
    "import pandas as pd\n",
    "import pandas as pd\n",
    "from sklearn.linear_model import LinearRegression\n",
    "from sklearn.model_selection import train_test_split\n",
    "import pandas as pd\n",
    "from sklearn.metrics import mean_squared_error\n",
    "\n",
    "file_name = \"Heart_Disease_Classification_Dataset.csv\"\n",
    "data = pd.read_csv(file_name)\n",
    "data['sex'] = data['sex'].map({'male': 1, 'female': 0})\n",
    "data['target'] = data['target'].map({'yes': 1, 'no': 0})\n",
    "print(\"\\nValue Mappings:\")\n",
    "print(\"Sex Mapping: {'male': 1, 'female': 0}\")\n",
    "print(\"Target Mapping: {'yes': 1, 'no': 0}\")\n"
   ]
  },
  {
   "cell_type": "code",
   "execution_count": 19,
   "metadata": {},
   "outputs": [
    {
     "name": "stdout",
     "output_type": "stream",
     "text": [
      "Column Report:\n",
      "------------------------------\n",
      "Column Name: Unnamed: 0\n",
      "Data Type: int64\n",
      "------------------------------\n",
      "Column Name: age\n",
      "Data Type: int64\n",
      "------------------------------\n",
      "Column Name: sex\n",
      "Data Type: int64\n",
      "------------------------------\n",
      "Column Name: cp\n",
      "Data Type: int64\n",
      "------------------------------\n",
      "Column Name: trestbps\n",
      "Data Type: float64\n",
      "------------------------------\n",
      "Column Name: chol\n",
      "Data Type: float64\n",
      "------------------------------\n",
      "Column Name: fbs\n",
      "Data Type: int64\n",
      "------------------------------\n",
      "Column Name: restecg\n",
      "Data Type: int64\n",
      "------------------------------\n",
      "Column Name: thalach\n",
      "Data Type: float64\n",
      "------------------------------\n",
      "Column Name: exang\n",
      "Data Type: int64\n",
      "------------------------------\n",
      "Column Name: oldpeak\n",
      "Data Type: float64\n",
      "------------------------------\n",
      "Column Name: slope\n",
      "Data Type: int64\n",
      "------------------------------\n",
      "Column Name: ca\n",
      "Data Type: int64\n",
      "------------------------------\n",
      "Column Name: thal\n",
      "Data Type: int64\n",
      "------------------------------\n",
      "Column Name: target\n",
      "Data Type: int64\n",
      "------------------------------\n"
     ]
    }
   ],
   "source": [
    "def report_columns(df):\n",
    "    print(\"Column Report:\")\n",
    "    print(\"-\" * 30)\n",
    "    for col in df.columns:\n",
    "        col_type = df[col].dtype\n",
    "        print(f\"Column Name: {col}\")\n",
    "        print(f\"Data Type: {col_type}\")\n",
    "        print(\"-\" * 30)\n",
    "report_columns(data)"
   ]
  },
  {
   "cell_type": "code",
   "execution_count": 16,
   "metadata": {},
   "outputs": [
    {
     "name": "stdout",
     "output_type": "stream",
     "text": [
      "Dataset Preview:\n",
      "   Unnamed: 0  age  sex  cp  trestbps   chol  fbs  restecg  thalach  exang  \\\n",
      "0           0   63    1   3     145.0  233.0    1        0    150.0      0   \n",
      "1           1   37    1   2     130.0  250.0    0        1    187.0      0   \n",
      "2           2   41    0   1     130.0  204.0    0        0    172.0      0   \n",
      "3           3   56    1   1     120.0  236.0    0        1    178.0      0   \n",
      "4           4   57    0   0       NaN  354.0    0        1    163.0      1   \n",
      "\n",
      "   oldpeak  slope  ca  thal  target  \n",
      "0      2.3      0   0     1       1  \n",
      "1      3.5      0   0     2       1  \n",
      "2      1.4      2   0     2       1  \n",
      "3      0.8      2   0     2       1  \n",
      "4      0.6      2   0     2       1  \n"
     ]
    }
   ],
   "source": [
    "print(\"Dataset Preview:\")\n",
    "print(data.head())"
   ]
  },
  {
   "cell_type": "code",
   "execution_count": 18,
   "metadata": {},
   "outputs": [
    {
     "name": "stdout",
     "output_type": "stream",
     "text": [
      "\n",
      "Basic Report:\n",
      "       Unnamed: 0         age         sex          cp    trestbps        chol  \\\n",
      "count  303.000000  303.000000  303.000000  303.000000  299.000000  302.000000   \n",
      "mean   151.000000   54.366337    0.683168    0.966997  131.712375  246.317881   \n",
      "std     87.612784    9.082101    0.466011    1.032052   17.629032   51.908285   \n",
      "min      0.000000   29.000000    0.000000    0.000000   94.000000  126.000000   \n",
      "25%     75.500000   47.500000    0.000000    0.000000  120.000000  211.000000   \n",
      "50%    151.000000   55.000000    1.000000    1.000000  130.000000  240.500000   \n",
      "75%    226.500000   61.000000    1.000000    2.000000  140.000000  274.750000   \n",
      "max    302.000000   77.000000    1.000000    3.000000  200.000000  564.000000   \n",
      "\n",
      "              fbs     restecg     thalach       exang     oldpeak       slope  \\\n",
      "count  303.000000  303.000000  298.000000  303.000000  303.000000  303.000000   \n",
      "mean     0.148515    0.528053  149.865772    0.326733    1.039604    1.399340   \n",
      "std      0.356198    0.525860   22.563687    0.469794    1.161075    0.616226   \n",
      "min      0.000000    0.000000   71.000000    0.000000    0.000000    0.000000   \n",
      "25%      0.000000    0.000000  134.500000    0.000000    0.000000    1.000000   \n",
      "50%      0.000000    1.000000  152.500000    0.000000    0.800000    1.000000   \n",
      "75%      0.000000    1.000000  166.000000    1.000000    1.600000    2.000000   \n",
      "max      1.000000    2.000000  202.000000    1.000000    6.200000    2.000000   \n",
      "\n",
      "               ca        thal      target  \n",
      "count  303.000000  303.000000  303.000000  \n",
      "mean     0.729373    2.313531    0.544554  \n",
      "std      1.022606    0.612277    0.498835  \n",
      "min      0.000000    0.000000    0.000000  \n",
      "25%      0.000000    2.000000    0.000000  \n",
      "50%      0.000000    2.000000    1.000000  \n",
      "75%      1.000000    3.000000    1.000000  \n",
      "max      4.000000    3.000000    1.000000  \n"
     ]
    }
   ],
   "source": [
    "print(\"\\nBasic Report:\")\n",
    "print(data.describe())"
   ]
  },
  {
   "cell_type": "code",
   "execution_count": 25,
   "metadata": {},
   "outputs": [
    {
     "name": "stdout",
     "output_type": "stream",
     "text": [
      "\n",
      "Missing Values by Column:\n",
      "Series([], dtype: int64)\n"
     ]
    }
   ],
   "source": [
    "print(\"\\nMissing Values by Column:\")\n",
    "missing_values = data.isnull().sum()\n",
    "print(missing_values[missing_values > 0])"
   ]
  },
  {
   "cell_type": "code",
   "execution_count": 24,
   "metadata": {},
   "outputs": [
    {
     "name": "stdout",
     "output_type": "stream",
     "text": [
      "DataFrame with Missing Values Filled:\n",
      "     Unnamed: 0  age  sex  cp    trestbps   chol  fbs  restecg  thalach  \\\n",
      "0             0   63    1   3  145.000000  233.0    1        0    150.0   \n",
      "1             1   37    1   2  130.000000  250.0    0        1    187.0   \n",
      "2             2   41    0   1  130.000000  204.0    0        0    172.0   \n",
      "3             3   56    1   1  120.000000  236.0    0        1    178.0   \n",
      "4             4   57    0   0  131.894925  354.0    0        1    163.0   \n",
      "..          ...  ...  ...  ..         ...    ...  ...      ...      ...   \n",
      "298         298   57    0   0  140.000000  241.0    0        1    123.0   \n",
      "299         299   45    1   3  110.000000  264.0    0        1    132.0   \n",
      "300         300   68    1   0  144.000000  193.0    1        1    141.0   \n",
      "301         301   57    1   0  127.934644  131.0    0        1    115.0   \n",
      "302         302   57    0   1  130.000000  236.0    0        0    174.0   \n",
      "\n",
      "     exang  oldpeak  slope  ca  thal  target  \n",
      "0        0      2.3      0   0     1       1  \n",
      "1        0      3.5      0   0     2       1  \n",
      "2        0      1.4      2   0     2       1  \n",
      "3        0      0.8      2   0     2       1  \n",
      "4        1      0.6      2   0     2       1  \n",
      "..     ...      ...    ...  ..   ...     ...  \n",
      "298      1      0.2      1   0     3       0  \n",
      "299      0      1.2      1   0     3       0  \n",
      "300      0      3.4      1   2     3       0  \n",
      "301      1      1.2      1   1     3       0  \n",
      "302      0      0.0      1   1     2       0  \n",
      "\n",
      "[303 rows x 15 columns]\n",
      "\n",
      "Missing Values Report:\n",
      "----------------------------------------\n",
      "Column Name: trestbps\n",
      "Missing Before: 4\n",
      "Missing After: 0\n",
      "----------------------------------------\n",
      "Column Name: chol\n",
      "Missing Before: 1\n",
      "Missing After: 0\n",
      "----------------------------------------\n",
      "Column Name: thalach\n",
      "Missing Before: 5\n",
      "Missing After: 0\n",
      "----------------------------------------\n"
     ]
    }
   ],
   "source": [
    "import pandas as pd\n",
    "from sklearn.linear_model import LinearRegression\n",
    "from sklearn.impute import SimpleImputer\n",
    "from sklearn.preprocessing import LabelEncoder\n",
    "\n",
    "\n",
    "def fill_missing_values(df):\n",
    "    missing_values = df.isnull().sum()\n",
    "    missing_columns = missing_values[missing_values > 0].index.tolist()\n",
    "    report = []\n",
    "    for col in missing_columns:\n",
    "        if df[col].dtype in ['float64', 'int64']:\n",
    "            if df[col].isna().sum() == len(df[col]):\n",
    "                # pass  columns that are entirely NaN\n",
    "                continue\n",
    "            \n",
    "            unique_values = df[col].dropna().unique()\n",
    "            if len(unique_values) == 2:\n",
    "                # Column is binary\n",
    "                continue\n",
    "            missing_before = df[col].isna().sum()\n",
    "            \n",
    "            not_nan = df[df[col].notna()]\n",
    "            nan = df[df[col].isna()]\n",
    "\n",
    "            X_train = not_nan.drop(columns=[col])\n",
    "            y_train = not_nan[col]\n",
    "\n",
    "            X_train = pd.get_dummies(X_train, drop_first=True)\n",
    "            X_train = X_train.fillna(0)\n",
    "\n",
    "            model = LinearRegression()\n",
    "            model.fit(X_train, y_train)\n",
    "\n",
    "            X_nan = nan.drop(columns=[col])\n",
    "            X_nan = pd.get_dummies(X_nan, drop_first=True)\n",
    "            X_nan = X_nan.fillna(0)\n",
    "\n",
    "            df.loc[nan.index, col] = model.predict(X_nan)\n",
    "\n",
    "            missing_after = df[col].isna().sum()\n",
    "            \n",
    "            #  report updating\n",
    "            report.append({\n",
    "                'Column Name': col,\n",
    "                'Missing Before': missing_before,\n",
    "                'Missing After': missing_after\n",
    "            })\n",
    "        \n",
    "        else:\n",
    "            mode_imputer = SimpleImputer(strategy='most_frequent')\n",
    "            df[col] = mode_imputer.fit_transform(df[[col]])\n",
    "            \n",
    "            missing_before = df[col].isna().sum()\n",
    "            missing_after = df[col].isna().sum()\n",
    "            \n",
    "            report.append({\n",
    "                'Column Name': col,\n",
    "                'Missing Before': missing_before,\n",
    "                'Missing After': missing_after\n",
    "            })\n",
    "\n",
    "    return df, report\n",
    "df_filled, report = fill_missing_values(data)\n",
    "print(\"DataFrame with Missing Values Filled:\")\n",
    "print(df_filled)\n",
    "print(\"\\nMissing Values Report:\")\n",
    "print(\"-\" * 40)\n",
    "for entry in report:\n",
    "    print(f\"Column Name: {entry['Column Name']}\")\n",
    "    print(f\"Missing Before: {entry['Missing Before']}\")\n",
    "    print(f\"Missing After: {entry['Missing After']}\")\n",
    "    print(\"-\" * 40)\n",
    "    \n",
    "df_filled.to_csv(file_name.replace(\".\",\"_Cleaned.\"))\n"
   ]
  },
  {
   "cell_type": "code",
   "execution_count": null,
   "metadata": {},
   "outputs": [],
   "source": []
  }
 ],
 "metadata": {
  "kernelspec": {
   "display_name": "Python 3",
   "language": "python",
   "name": "python3"
  },
  "language_info": {
   "codemirror_mode": {
    "name": "ipython",
    "version": 3
   },
   "file_extension": ".py",
   "mimetype": "text/x-python",
   "name": "python",
   "nbconvert_exporter": "python",
   "pygments_lexer": "ipython3",
   "version": "3.11.2"
  }
 },
 "nbformat": 4,
 "nbformat_minor": 2
}
